{
 "cells": [
  {
   "cell_type": "markdown",
   "metadata": {},
   "source": [
    "# Parse addrs"
   ]
  },
  {
   "cell_type": "code",
   "execution_count": 1,
   "metadata": {},
   "outputs": [],
   "source": [
    "lines = []\n",
    "with open('sample.txt') as file:\n",
    "    for line in file:\n",
    "        lines.append(line.rstrip())"
   ]
  },
  {
   "cell_type": "code",
   "execution_count": 2,
   "metadata": {},
   "outputs": [
    {
     "name": "stdout",
     "output_type": "stream",
     "text": [
      "Контакты пр. Маршала Жукова д.21\n",
      "         ───────────────────────\n"
     ]
    },
    {
     "data": {
      "text/plain": [
       "Match(\n",
       "    start=9,\n",
       "    stop=32,\n",
       "    fact=Addr(\n",
       "        parts=[AddrPart(\n",
       "             value='Маршала Жукова',\n",
       "             type='проспект'\n",
       "         ),\n",
       "         AddrPart(\n",
       "             value='21',\n",
       "             type='дом'\n",
       "         )]\n",
       "    )\n",
       ")"
      ]
     },
     "metadata": {},
     "output_type": "display_data"
    },
    {
     "name": "stdout",
     "output_type": "stream",
     "text": [
      "Россия, 443009 г. Самара пр. Кирова,54\n",
      "───────────────────────────────────   \n"
     ]
    },
    {
     "data": {
      "text/plain": [
       "Match(\n",
       "    start=0,\n",
       "    stop=35,\n",
       "    fact=Addr(\n",
       "        parts=[AddrPart(\n",
       "             value='Россия',\n",
       "             type='страна'\n",
       "         ),\n",
       "         AddrPart(\n",
       "             value='443009',\n",
       "             type='индекс'\n",
       "         ),\n",
       "         AddrPart(\n",
       "             value='Самара',\n",
       "             type='город'\n",
       "         ),\n",
       "         AddrPart(\n",
       "             value='Кирова',\n",
       "             type='проспект'\n",
       "         )]\n",
       "    )\n",
       ")"
      ]
     },
     "metadata": {},
     "output_type": "display_data"
    },
    {
     "name": "stdout",
     "output_type": "stream",
     "text": [
      "Екатеринбург, ул. Сибирский тракт, д. 25, литер А, оф. 310\n",
      "──────────────────────────────────────────────────────────\n"
     ]
    },
    {
     "data": {
      "text/plain": [
       "Match(\n",
       "    start=0,\n",
       "    stop=58,\n",
       "    fact=Addr(\n",
       "        parts=[AddrPart(\n",
       "             value='Екатеринбург',\n",
       "             type=None\n",
       "         ),\n",
       "         AddrPart(\n",
       "             value='Сибирский тракт',\n",
       "             type='улица'\n",
       "         ),\n",
       "         AddrPart(\n",
       "             value='25',\n",
       "             type='дом'\n",
       "         ),\n",
       "         AddrPart(\n",
       "             value='310',\n",
       "             type='офис'\n",
       "         )]\n",
       "    )\n",
       ")"
      ]
     },
     "metadata": {},
     "output_type": "display_data"
    },
    {
     "name": "stdout",
     "output_type": "stream",
     "text": [
      "\\- Магазин «Швейные машины», ул. Мира, дом 79. т. 8-(8443)-29-35-08\n",
      "                             ────────────────                      \n"
     ]
    },
    {
     "data": {
      "text/plain": [
       "Match(\n",
       "    start=29,\n",
       "    stop=45,\n",
       "    fact=Addr(\n",
       "        parts=[AddrPart(\n",
       "             value='Мира',\n",
       "             type='улица'\n",
       "         ),\n",
       "         AddrPart(\n",
       "             value='79',\n",
       "             type='дом'\n",
       "         )]\n",
       "    )\n",
       ")"
      ]
     },
     "metadata": {},
     "output_type": "display_data"
    },
    {
     "name": "stdout",
     "output_type": "stream",
     "text": [
      "ул. Сергея Акимова, д. 25/а, оф. 1\n",
      "──────────────────────────────────\n"
     ]
    },
    {
     "data": {
      "text/plain": [
       "Match(\n",
       "    start=0,\n",
       "    stop=34,\n",
       "    fact=Addr(\n",
       "        parts=[AddrPart(\n",
       "             value='Сергея Акимова',\n",
       "             type='улица'\n",
       "         ),\n",
       "         AddrPart(\n",
       "             value='25/а',\n",
       "             type='дом'\n",
       "         ),\n",
       "         AddrPart(\n",
       "             value='1',\n",
       "             type='офис'\n",
       "         )]\n",
       "    )\n",
       ")"
      ]
     },
     "metadata": {},
     "output_type": "display_data"
    },
    {
     "name": "stdout",
     "output_type": "stream",
     "text": [
      "г. Оса, ул. Спорта д. 41 (в помещении СФ\n",
      "────────────────────────                \n"
     ]
    },
    {
     "data": {
      "text/plain": [
       "Match(\n",
       "    start=0,\n",
       "    stop=24,\n",
       "    fact=Addr(\n",
       "        parts=[AddrPart(\n",
       "             value='Оса',\n",
       "             type='город'\n",
       "         ),\n",
       "         AddrPart(\n",
       "             value='Спорта',\n",
       "             type='улица'\n",
       "         ),\n",
       "         AddrPart(\n",
       "             value='41',\n",
       "             type='дом'\n",
       "         )]\n",
       "    )\n",
       ")"
      ]
     },
     "metadata": {},
     "output_type": "display_data"
    },
    {
     "name": "stdout",
     "output_type": "stream",
     "text": [
      "Московская область, Подольск, улица Силикатная, дом 6/3\n",
      "───────────────────────────────────────────────────────\n"
     ]
    },
    {
     "data": {
      "text/plain": [
       "Match(\n",
       "    start=0,\n",
       "    stop=55,\n",
       "    fact=Addr(\n",
       "        parts=[AddrPart(\n",
       "             value='Московская',\n",
       "             type='область'\n",
       "         ),\n",
       "         AddrPart(\n",
       "             value='Подольск',\n",
       "             type=None\n",
       "         ),\n",
       "         AddrPart(\n",
       "             value='Силикатная',\n",
       "             type='улица'\n",
       "         ),\n",
       "         AddrPart(\n",
       "             value='6/3',\n",
       "             type='дом'\n",
       "         )]\n",
       "    )\n",
       ")"
      ]
     },
     "metadata": {},
     "output_type": "display_data"
    },
    {
     "name": "stdout",
     "output_type": "stream",
     "text": [
      "г. Оренбург, ул. Волгоградская 10/1, корпус 2\n",
      "─────────────────────────────────────────────\n"
     ]
    },
    {
     "data": {
      "text/plain": [
       "Match(\n",
       "    start=0,\n",
       "    stop=45,\n",
       "    fact=Addr(\n",
       "        parts=[AddrPart(\n",
       "             value='Оренбург',\n",
       "             type='город'\n",
       "         ),\n",
       "         AddrPart(\n",
       "             value='Волгоградская',\n",
       "             type='улица'\n",
       "         ),\n",
       "         AddrPart(\n",
       "             value='2',\n",
       "             type='корпус'\n",
       "         )]\n",
       "    )\n",
       ")"
      ]
     },
     "metadata": {},
     "output_type": "display_data"
    },
    {
     "name": "stdout",
     "output_type": "stream",
     "text": [
      "141421, Московская область, Солнечногорский район, деревня Елино, \n",
      "──────────────────────────────────────────────────────────────────\n",
      "Ленинградское шоссе, 34 км., стр. 15\n",
      "────────────────────────────────────\n"
     ]
    },
    {
     "data": {
      "text/plain": [
       "Match(\n",
       "    start=0,\n",
       "    stop=102,\n",
       "    fact=Addr(\n",
       "        parts=[AddrPart(\n",
       "             value='141421',\n",
       "             type='индекс'\n",
       "         ),\n",
       "         AddrPart(\n",
       "             value='Московская',\n",
       "             type='область'\n",
       "         ),\n",
       "         AddrPart(\n",
       "             value='Солнечногорский',\n",
       "             type='район'\n",
       "         ),\n",
       "         AddrPart(\n",
       "             value='Елино',\n",
       "             type='деревня'\n",
       "         ),\n",
       "         AddrPart(\n",
       "             value='Ленинградское',\n",
       "             type='шоссе'\n",
       "         ),\n",
       "         AddrPart(\n",
       "             value=None,\n",
       "             type='строение'\n",
       "         )]\n",
       "    )\n",
       ")"
      ]
     },
     "metadata": {},
     "output_type": "display_data"
    },
    {
     "name": "stdout",
     "output_type": "stream",
     "text": [
      "г. Волгоград, ул. Краснополянская, д. 72 Л\n",
      "──────────────────────────────────────────\n"
     ]
    },
    {
     "data": {
      "text/plain": [
       "Match(\n",
       "    start=0,\n",
       "    stop=42,\n",
       "    fact=Addr(\n",
       "        parts=[AddrPart(\n",
       "             value='Волгоград',\n",
       "             type='город'\n",
       "         ),\n",
       "         AddrPart(\n",
       "             value='Краснополянская',\n",
       "             type='улица'\n",
       "         ),\n",
       "         AddrPart(\n",
       "             value='72 Л',\n",
       "             type='дом'\n",
       "         )]\n",
       "    )\n",
       ")"
      ]
     },
     "metadata": {},
     "output_type": "display_data"
    },
    {
     "name": "stdout",
     "output_type": "stream",
     "text": [
      "Юридический адрес: 192102, Россия, Санкт-Петербург, Волковский \n",
      "                   ────────────────────────────────────────────\n",
      "пр.д.146\n",
      "────────\n"
     ]
    },
    {
     "data": {
      "text/plain": [
       "Match(\n",
       "    start=19,\n",
       "    stop=71,\n",
       "    fact=Addr(\n",
       "        parts=[AddrPart(\n",
       "             value='192102',\n",
       "             type='индекс'\n",
       "         ),\n",
       "         AddrPart(\n",
       "             value='Россия',\n",
       "             type='страна'\n",
       "         ),\n",
       "         AddrPart(\n",
       "             value='Санкт-Петербург',\n",
       "             type=None\n",
       "         ),\n",
       "         AddrPart(\n",
       "             value='Волковский',\n",
       "             type='проспект'\n",
       "         ),\n",
       "         AddrPart(\n",
       "             value='146',\n",
       "             type='дом'\n",
       "         )]\n",
       "    )\n",
       ")"
      ]
     },
     "metadata": {},
     "output_type": "display_data"
    },
    {
     "name": "stdout",
     "output_type": "stream",
     "text": [
      "г.Петрозаводск, ул.Корабелов д.34\n",
      "─────────────────────────────────\n"
     ]
    },
    {
     "data": {
      "text/plain": [
       "Match(\n",
       "    start=0,\n",
       "    stop=33,\n",
       "    fact=Addr(\n",
       "        parts=[AddrPart(\n",
       "             value='Петрозаводск',\n",
       "             type='город'\n",
       "         ),\n",
       "         AddrPart(\n",
       "             value='Корабелов',\n",
       "             type='улица'\n",
       "         ),\n",
       "         AddrPart(\n",
       "             value='34',\n",
       "             type='дом'\n",
       "         )]\n",
       "    )\n",
       ")"
      ]
     },
     "metadata": {},
     "output_type": "display_data"
    },
    {
     "name": "stdout",
     "output_type": "stream",
     "text": [
      "Москва, м. Угрешская, 3-й Угрешский проезд, д.8 стр 1\n",
      "─────────────────────────────────────────────────────\n"
     ]
    },
    {
     "data": {
      "text/plain": [
       "Match(\n",
       "    start=0,\n",
       "    stop=53,\n",
       "    fact=Addr(\n",
       "        parts=[AddrPart(\n",
       "             value='Москва',\n",
       "             type=None\n",
       "         ),\n",
       "         AddrPart(\n",
       "             value='3-й Угрешский',\n",
       "             type='проезд'\n",
       "         ),\n",
       "         AddrPart(\n",
       "             value='8',\n",
       "             type='дом'\n",
       "         ),\n",
       "         AddrPart(\n",
       "             value=None,\n",
       "             type='строение'\n",
       "         )]\n",
       "    )\n",
       ")"
      ]
     },
     "metadata": {},
     "output_type": "display_data"
    },
    {
     "name": "stdout",
     "output_type": "stream",
     "text": [
      "125475, Москва, Петрозаводская ул., д. 28\n",
      "─────────────────────────────────────────\n"
     ]
    },
    {
     "data": {
      "text/plain": [
       "Match(\n",
       "    start=0,\n",
       "    stop=41,\n",
       "    fact=Addr(\n",
       "        parts=[AddrPart(\n",
       "             value='125475',\n",
       "             type='индекс'\n",
       "         ),\n",
       "         AddrPart(\n",
       "             value='Москва',\n",
       "             type=None\n",
       "         ),\n",
       "         AddrPart(\n",
       "             value='Петрозаводская',\n",
       "             type='улица'\n",
       "         ),\n",
       "         AddrPart(\n",
       "             value='28',\n",
       "             type='дом'\n",
       "         )]\n",
       "    )\n",
       ")"
      ]
     },
     "metadata": {},
     "output_type": "display_data"
    },
    {
     "name": "stdout",
     "output_type": "stream",
     "text": [
      "(в договор не включать) | Москва, Тессинский переулок д. 4 к. 1\n",
      "                          ──────────────────────────────────   \n"
     ]
    },
    {
     "data": {
      "text/plain": [
       "Match(\n",
       "    start=26,\n",
       "    stop=60,\n",
       "    fact=Addr(\n",
       "        parts=[AddrPart(\n",
       "             value='Москва',\n",
       "             type=None\n",
       "         ),\n",
       "         AddrPart(\n",
       "             value='Тессинский',\n",
       "             type='переулок'\n",
       "         ),\n",
       "         AddrPart(\n",
       "             value='4 к',\n",
       "             type='дом'\n",
       "         )]\n",
       "    )\n",
       ")"
      ]
     },
     "metadata": {},
     "output_type": "display_data"
    },
    {
     "name": "stdout",
     "output_type": "stream",
     "text": [
      "Прием заказов с 9:00 до 18:00 | Телефон: 8(903)108-62-68, \n",
      "8(965)277-17-44 | E-mail: pk.plus@yandex.ru | Адрес: г. Клин, \n",
      "                                                     ─────────\n",
      "Ленинградское шоссе, 88 км.\n",
      "───────────────────        \n"
     ]
    },
    {
     "data": {
      "text/plain": [
       "Match(\n",
       "    start=111,\n",
       "    stop=139,\n",
       "    fact=Addr(\n",
       "        parts=[AddrPart(\n",
       "             value='Клин',\n",
       "             type='город'\n",
       "         ),\n",
       "         AddrPart(\n",
       "             value='Ленинградское',\n",
       "             type='шоссе'\n",
       "         )]\n",
       "    )\n",
       ")"
      ]
     },
     "metadata": {},
     "output_type": "display_data"
    },
    {
     "name": "stdout",
     "output_type": "stream",
     "text": [
      "Жилой 128-квартирный дом по ул. Краснова, 38\n",
      "                            ────────────    \n"
     ]
    },
    {
     "data": {
      "text/plain": [
       "Match(\n",
       "    start=28,\n",
       "    stop=40,\n",
       "    fact=Addr(\n",
       "        parts=[AddrPart(\n",
       "             value='Краснова',\n",
       "             type='улица'\n",
       "         )]\n",
       "    )\n",
       ")"
      ]
     },
     "metadata": {},
     "output_type": "display_data"
    },
    {
     "name": "stdout",
     "output_type": "stream",
     "text": [
      "Адрес: 346400, Ростовская область, г. Новочеркасск, ул. Думенко, 20\n",
      "       ────────────────────────────────────────────────────────    \n"
     ]
    },
    {
     "data": {
      "text/plain": [
       "Match(\n",
       "    start=7,\n",
       "    stop=63,\n",
       "    fact=Addr(\n",
       "        parts=[AddrPart(\n",
       "             value='346400',\n",
       "             type='индекс'\n",
       "         ),\n",
       "         AddrPart(\n",
       "             value='Ростовская',\n",
       "             type='область'\n",
       "         ),\n",
       "         AddrPart(\n",
       "             value='Новочеркасск',\n",
       "             type='город'\n",
       "         ),\n",
       "         AddrPart(\n",
       "             value='Думенко',\n",
       "             type='улица'\n",
       "         )]\n",
       "    )\n",
       ")"
      ]
     },
     "metadata": {},
     "output_type": "display_data"
    },
    {
     "name": "stdout",
     "output_type": "stream",
     "text": [
      "624006, Свердловская область, Пос. Большой Исток, ул. Свердлова, 42/а\n",
      "───────────────────────────────────────────────────────────────      \n"
     ]
    },
    {
     "data": {
      "text/plain": [
       "Match(\n",
       "    start=0,\n",
       "    stop=63,\n",
       "    fact=Addr(\n",
       "        parts=[AddrPart(\n",
       "             value='624006',\n",
       "             type='индекс'\n",
       "         ),\n",
       "         AddrPart(\n",
       "             value='Свердловская',\n",
       "             type='область'\n",
       "         ),\n",
       "         AddrPart(\n",
       "             value='Большой Исток',\n",
       "             type='посёлок'\n",
       "         ),\n",
       "         AddrPart(\n",
       "             value='Свердлова',\n",
       "             type='улица'\n",
       "         )]\n",
       "    )\n",
       ")"
      ]
     },
     "metadata": {},
     "output_type": "display_data"
    },
    {
     "name": "stdout",
     "output_type": "stream",
     "text": [
      "Адрес: | пл. Революции, д. 9, 4 этаж | пл. Лядова, Окский съезд, д. 2 \n",
      "         ─────────────────────────────────────────────────────────────\n",
      "| ул. Коминтерна, 105а\n",
      "────────────────      \n"
     ]
    },
    {
     "data": {
      "text/plain": [
       "Match(\n",
       "    start=9,\n",
       "    stop=86,\n",
       "    fact=Addr(\n",
       "        parts=[AddrPart(\n",
       "             value='Революции',\n",
       "             type='площадь'\n",
       "         ),\n",
       "         AddrPart(\n",
       "             value='9',\n",
       "             type='дом'\n",
       "         ),\n",
       "         AddrPart(\n",
       "             value='2',\n",
       "             type='дом'\n",
       "         ),\n",
       "         AddrPart(\n",
       "             value='Коминтерна',\n",
       "             type='улица'\n",
       "         )]\n",
       "    )\n",
       ")"
      ]
     },
     "metadata": {},
     "output_type": "display_data"
    },
    {
     "name": "stdout",
     "output_type": "stream",
     "text": [
      "432042, Ульяновск г, Станкостроителей ул, д.24 , («Ульяновск \n",
      "──────────────────────────────────────────────────────────── \n",
      "Станкостроителей_7302_С\n"
     ]
    },
    {
     "data": {
      "text/plain": [
       "Match(\n",
       "    start=0,\n",
       "    stop=60,\n",
       "    fact=Addr(\n",
       "        parts=[AddrPart(\n",
       "             value='432042',\n",
       "             type='индекс'\n",
       "         ),\n",
       "         AddrPart(\n",
       "             value='Ульяновск',\n",
       "             type=None\n",
       "         ),\n",
       "         AddrPart(\n",
       "             value='Станкостроителей',\n",
       "             type='улица'\n",
       "         ),\n",
       "         AddrPart(\n",
       "             value='24',\n",
       "             type='дом'\n",
       "         ),\n",
       "         AddrPart(\n",
       "             value='Ульяновск',\n",
       "             type=None\n",
       "         )]\n",
       "    )\n",
       ")"
      ]
     },
     "metadata": {},
     "output_type": "display_data"
    },
    {
     "name": "stdout",
     "output_type": "stream",
     "text": [
      "302040, г. Орел, ул. Ломоносова, 6\n",
      "───────────────────────────────   \n"
     ]
    },
    {
     "data": {
      "text/plain": [
       "Match(\n",
       "    start=0,\n",
       "    stop=31,\n",
       "    fact=Addr(\n",
       "        parts=[AddrPart(\n",
       "             value='302040',\n",
       "             type='индекс'\n",
       "         ),\n",
       "         AddrPart(\n",
       "             value='Орел',\n",
       "             type='город'\n",
       "         ),\n",
       "         AddrPart(\n",
       "             value='Ломоносова',\n",
       "             type='улица'\n",
       "         )]\n",
       "    )\n",
       ")"
      ]
     },
     "metadata": {},
     "output_type": "display_data"
    },
    {
     "name": "stdout",
     "output_type": "stream",
     "text": [
      "Мы расположены по адресу: Московская область, г.Истра, ул.Ленина \n",
      "                          ───────────────────────────────────────\n",
      "д.11А, т. (49831)5-09-95, (49831)4-94-24\n",
      "─────                                   \n"
     ]
    },
    {
     "data": {
      "text/plain": [
       "Match(\n",
       "    start=26,\n",
       "    stop=70,\n",
       "    fact=Addr(\n",
       "        parts=[AddrPart(\n",
       "             value='Московская',\n",
       "             type='область'\n",
       "         ),\n",
       "         AddrPart(\n",
       "             value='Истра',\n",
       "             type='город'\n",
       "         ),\n",
       "         AddrPart(\n",
       "             value='Ленина',\n",
       "             type='улица'\n",
       "         ),\n",
       "         AddrPart(\n",
       "             value='11А',\n",
       "             type='дом'\n",
       "         )]\n",
       "    )\n",
       ")"
      ]
     },
     "metadata": {},
     "output_type": "display_data"
    },
    {
     "name": "stdout",
     "output_type": "stream",
     "text": [
      "127206 г. Москва.Вучетича ул., д. 12А\n",
      "─────────────────────────────────────\n"
     ]
    },
    {
     "data": {
      "text/plain": [
       "Match(\n",
       "    start=0,\n",
       "    stop=37,\n",
       "    fact=Addr(\n",
       "        parts=[AddrPart(\n",
       "             value='127206',\n",
       "             type='индекс'\n",
       "         ),\n",
       "         AddrPart(\n",
       "             value='Москва',\n",
       "             type='город'\n",
       "         ),\n",
       "         AddrPart(\n",
       "             value='Вучетича',\n",
       "             type='улица'\n",
       "         ),\n",
       "         AddrPart(\n",
       "             value='12А',\n",
       "             type='дом'\n",
       "         )]\n",
       "    )\n",
       ")"
      ]
     },
     "metadata": {},
     "output_type": "display_data"
    },
    {
     "name": "stdout",
     "output_type": "stream",
     "text": [
      "г. Нижний Новгород, ул. Юлиуса Фучика, 100\n",
      "─────────────────────────────────────     \n"
     ]
    },
    {
     "data": {
      "text/plain": [
       "Match(\n",
       "    start=0,\n",
       "    stop=37,\n",
       "    fact=Addr(\n",
       "        parts=[AddrPart(\n",
       "             value='Нижний Новгород',\n",
       "             type='город'\n",
       "         ),\n",
       "         AddrPart(\n",
       "             value='Юлиуса Фучика',\n",
       "             type='улица'\n",
       "         )]\n",
       "    )\n",
       ")"
      ]
     },
     "metadata": {},
     "output_type": "display_data"
    },
    {
     "name": "stdout",
     "output_type": "stream",
     "text": [
      "09.01.2018 09:49 | 100 л топлива | Сафин Рустам Рафисович | г. Уфа, \n",
      "                                                            ────────\n",
      "ул.Центральная\n",
      "──────────────\n"
     ]
    },
    {
     "data": {
      "text/plain": [
       "Match(\n",
       "    start=60,\n",
       "    stop=82,\n",
       "    fact=Addr(\n",
       "        parts=[AddrPart(\n",
       "             value='Уфа',\n",
       "             type='город'\n",
       "         ),\n",
       "         AddrPart(\n",
       "             value='Центральная',\n",
       "             type='улица'\n",
       "         )]\n",
       "    )\n",
       ")"
      ]
     },
     "metadata": {},
     "output_type": "display_data"
    },
    {
     "name": "stdout",
     "output_type": "stream",
     "text": [
      "Юридический адрес: 680000, Хабаровск, ул. Комсомольская, 67, \n",
      "                   ────────────────────────────────────      \n",
      "Телефон:(4212) 38-48-28,(4212) 38-48-27,(4212) 38-53-09\n"
     ]
    },
    {
     "data": {
      "text/plain": [
       "Match(\n",
       "    start=19,\n",
       "    stop=55,\n",
       "    fact=Addr(\n",
       "        parts=[AddrPart(\n",
       "             value='680000',\n",
       "             type='индекс'\n",
       "         ),\n",
       "         AddrPart(\n",
       "             value='Хабаровск',\n",
       "             type=None\n",
       "         ),\n",
       "         AddrPart(\n",
       "             value='Комсомольская',\n",
       "             type='улица'\n",
       "         )]\n",
       "    )\n",
       ")"
      ]
     },
     "metadata": {},
     "output_type": "display_data"
    },
    {
     "name": "stdout",
     "output_type": "stream",
     "text": [
      "24.08.2017 17:19 | Кофе | галяутдинов ринат талгатович | АЗС № 18-002,\n",
      " Удмуртская Республика, г. Ижевск, ул. 40 лет Победы, 1\n",
      " ───────────────────────────────────────────────────   \n"
     ]
    },
    {
     "data": {
      "text/plain": [
       "Match(\n",
       "    start=71,\n",
       "    stop=122,\n",
       "    fact=Addr(\n",
       "        parts=[AddrPart(\n",
       "             value='Удмуртская',\n",
       "             type='республика'\n",
       "         ),\n",
       "         AddrPart(\n",
       "             value='Ижевск',\n",
       "             type='город'\n",
       "         ),\n",
       "         AddrPart(\n",
       "             value='40 лет Победы',\n",
       "             type='улица'\n",
       "         )]\n",
       "    )\n",
       ")"
      ]
     },
     "metadata": {},
     "output_type": "display_data"
    },
    {
     "name": "stdout",
     "output_type": "stream",
     "text": [
      "191040, ул. Наличная, д. 36\n",
      "───────────────────────────\n"
     ]
    },
    {
     "data": {
      "text/plain": [
       "Match(\n",
       "    start=0,\n",
       "    stop=27,\n",
       "    fact=Addr(\n",
       "        parts=[AddrPart(\n",
       "             value='191040',\n",
       "             type='индекс'\n",
       "         ),\n",
       "         AddrPart(\n",
       "             value='Наличная',\n",
       "             type='улица'\n",
       "         ),\n",
       "         AddrPart(\n",
       "             value='36',\n",
       "             type='дом'\n",
       "         )]\n",
       "    )\n",
       ")"
      ]
     },
     "metadata": {},
     "output_type": "display_data"
    },
    {
     "name": "stdout",
     "output_type": "stream",
     "text": [
      "г.Сарапул, ул.Левиатова, д.16\n",
      "─────────────────────────────\n"
     ]
    },
    {
     "data": {
      "text/plain": [
       "Match(\n",
       "    start=0,\n",
       "    stop=29,\n",
       "    fact=Addr(\n",
       "        parts=[AddrPart(\n",
       "             value='Сарапул',\n",
       "             type='город'\n",
       "         ),\n",
       "         AddrPart(\n",
       "             value='Левиатова',\n",
       "             type='улица'\n",
       "         ),\n",
       "         AddrPart(\n",
       "             value='16',\n",
       "             type='дом'\n",
       "         )]\n",
       "    )\n",
       ")"
      ]
     },
     "metadata": {},
     "output_type": "display_data"
    },
    {
     "name": "stdout",
     "output_type": "stream",
     "text": [
      "Дмитров  | Московская область, г.Дмитров, ул. Московская, д.3  | Пн-Пт\n",
      "           ──────────────────────────────────────────────────         \n",
      " - 9.00-20.00\n"
     ]
    },
    {
     "data": {
      "text/plain": [
       "Match(\n",
       "    start=11,\n",
       "    stop=61,\n",
       "    fact=Addr(\n",
       "        parts=[AddrPart(\n",
       "             value='Московская',\n",
       "             type='область'\n",
       "         ),\n",
       "         AddrPart(\n",
       "             value='Дмитров',\n",
       "             type='город'\n",
       "         ),\n",
       "         AddrPart(\n",
       "             value='Московская',\n",
       "             type='улица'\n",
       "         ),\n",
       "         AddrPart(\n",
       "             value='3',\n",
       "             type='дом'\n",
       "         )]\n",
       "    )\n",
       ")"
      ]
     },
     "metadata": {},
     "output_type": "display_data"
    },
    {
     "name": "stdout",
     "output_type": "stream",
     "text": [
      "ул. Русаковская, 4, стр. 3\n",
      "──────────────────────────\n"
     ]
    },
    {
     "data": {
      "text/plain": [
       "Match(\n",
       "    start=0,\n",
       "    stop=26,\n",
       "    fact=Addr(\n",
       "        parts=[AddrPart(\n",
       "             value='Русаковская',\n",
       "             type='улица'\n",
       "         ),\n",
       "         AddrPart(\n",
       "             value=None,\n",
       "             type='строение'\n",
       "         )]\n",
       "    )\n",
       ")"
      ]
     },
     "metadata": {},
     "output_type": "display_data"
    },
    {
     "name": "stdout",
     "output_type": "stream",
     "text": [
      "Академическая ул., д.31\n",
      "───────────────────────\n"
     ]
    },
    {
     "data": {
      "text/plain": [
       "Match(\n",
       "    start=0,\n",
       "    stop=23,\n",
       "    fact=Addr(\n",
       "        parts=[AddrPart(\n",
       "             value='Академическая',\n",
       "             type='улица'\n",
       "         ),\n",
       "         AddrPart(\n",
       "             value='31',\n",
       "             type='дом'\n",
       "         )]\n",
       "    )\n",
       ")"
      ]
     },
     "metadata": {},
     "output_type": "display_data"
    },
    {
     "name": "stdout",
     "output_type": "stream",
     "text": [
      "105318, г. Москва, ул. Ибрагимова, д. 15, офис 440\n",
      "──────────────────────────────────────────────────\n"
     ]
    },
    {
     "data": {
      "text/plain": [
       "Match(\n",
       "    start=0,\n",
       "    stop=50,\n",
       "    fact=Addr(\n",
       "        parts=[AddrPart(\n",
       "             value='105318',\n",
       "             type='индекс'\n",
       "         ),\n",
       "         AddrPart(\n",
       "             value='Москва',\n",
       "             type='город'\n",
       "         ),\n",
       "         AddrPart(\n",
       "             value='Ибрагимова',\n",
       "             type='улица'\n",
       "         ),\n",
       "         AddrPart(\n",
       "             value='15',\n",
       "             type='дом'\n",
       "         ),\n",
       "         AddrPart(\n",
       "             value='440',\n",
       "             type='офис'\n",
       "         )]\n",
       "    )\n",
       ")"
      ]
     },
     "metadata": {},
     "output_type": "display_data"
    },
    {
     "name": "stdout",
     "output_type": "stream",
     "text": [
      "117393, г.Москва, 3-я Мытищинская улица дом 3 ,строение 1\n",
      "─────────────────────────────────────────────────────────\n"
     ]
    },
    {
     "data": {
      "text/plain": [
       "Match(\n",
       "    start=0,\n",
       "    stop=57,\n",
       "    fact=Addr(\n",
       "        parts=[AddrPart(\n",
       "             value='117393',\n",
       "             type='индекс'\n",
       "         ),\n",
       "         AddrPart(\n",
       "             value='Москва',\n",
       "             type='город'\n",
       "         ),\n",
       "         AddrPart(\n",
       "             value='3-я Мытищинская',\n",
       "             type='улица'\n",
       "         ),\n",
       "         AddrPart(\n",
       "             value='3',\n",
       "             type='дом'\n",
       "         ),\n",
       "         AddrPart(\n",
       "             value=None,\n",
       "             type='строение'\n",
       "         )]\n",
       "    )\n",
       ")"
      ]
     },
     "metadata": {},
     "output_type": "display_data"
    },
    {
     "name": "stdout",
     "output_type": "stream",
     "text": [
      "117105, г. Москва, Нагорный проезд, д. 5\n",
      "────────────────────────────────────────\n"
     ]
    },
    {
     "data": {
      "text/plain": [
       "Match(\n",
       "    start=0,\n",
       "    stop=40,\n",
       "    fact=Addr(\n",
       "        parts=[AddrPart(\n",
       "             value='117105',\n",
       "             type='индекс'\n",
       "         ),\n",
       "         AddrPart(\n",
       "             value='Москва',\n",
       "             type='город'\n",
       "         ),\n",
       "         AddrPart(\n",
       "             value='Нагорный',\n",
       "             type='проезд'\n",
       "         ),\n",
       "         AddrPart(\n",
       "             value='5',\n",
       "             type='дом'\n",
       "         )]\n",
       "    )\n",
       ")"
      ]
     },
     "metadata": {},
     "output_type": "display_data"
    },
    {
     "name": "stdout",
     "output_type": "stream",
     "text": [
      "г.Казань, ул. Тихорецкая, д.2а,\n",
      "────────────────────────────── \n"
     ]
    },
    {
     "data": {
      "text/plain": [
       "Match(\n",
       "    start=0,\n",
       "    stop=30,\n",
       "    fact=Addr(\n",
       "        parts=[AddrPart(\n",
       "             value='Казань',\n",
       "             type='город'\n",
       "         ),\n",
       "         AddrPart(\n",
       "             value='Тихорецкая',\n",
       "             type='улица'\n",
       "         ),\n",
       "         AddrPart(\n",
       "             value='2а',\n",
       "             type='дом'\n",
       "         )]\n",
       "    )\n",
       ")"
      ]
     },
     "metadata": {},
     "output_type": "display_data"
    },
    {
     "name": "stdout",
     "output_type": "stream",
     "text": [
      "ул. Академика Королёва, д.13, стр.1\n",
      "───────────────────────────────────\n"
     ]
    },
    {
     "data": {
      "text/plain": [
       "Match(\n",
       "    start=0,\n",
       "    stop=35,\n",
       "    fact=Addr(\n",
       "        parts=[AddrPart(\n",
       "             value='Академика Королёва',\n",
       "             type='улица'\n",
       "         ),\n",
       "         AddrPart(\n",
       "             value='13',\n",
       "             type='дом'\n",
       "         ),\n",
       "         AddrPart(\n",
       "             value=None,\n",
       "             type='строение'\n",
       "         )]\n",
       "    )\n",
       ")"
      ]
     },
     "metadata": {},
     "output_type": "display_data"
    },
    {
     "name": "stdout",
     "output_type": "stream",
     "text": [
      "18.05.2017 07:16 | Кофе | Туленков Александр Николаевич | Республика \n",
      "                                                          ───────────\n",
      "Башкортостан, г. Кумертау, ул. Энергетиков, 33\n",
      "──────────────────────────────────────────    \n"
     ]
    },
    {
     "data": {
      "text/plain": [
       "Match(\n",
       "    start=58,\n",
       "    stop=111,\n",
       "    fact=Addr(\n",
       "        parts=[AddrPart(\n",
       "             value='Башкортостан',\n",
       "             type='республика'\n",
       "         ),\n",
       "         AddrPart(\n",
       "             value='Кумертау',\n",
       "             type='город'\n",
       "         ),\n",
       "         AddrPart(\n",
       "             value='Энергетиков',\n",
       "             type='улица'\n",
       "         )]\n",
       "    )\n",
       ")"
      ]
     },
     "metadata": {},
     "output_type": "display_data"
    },
    {
     "name": "stdout",
     "output_type": "stream",
     "text": [
      "455007, Челябинская область, г. Магнитогорск, ул. Кирова 104, строение\n",
      "──────────────────────────────────────────────────────────────────────\n",
      " 2\n",
      "──\n"
     ]
    },
    {
     "data": {
      "text/plain": [
       "Match(\n",
       "    start=0,\n",
       "    stop=72,\n",
       "    fact=Addr(\n",
       "        parts=[AddrPart(\n",
       "             value='455007',\n",
       "             type='индекс'\n",
       "         ),\n",
       "         AddrPart(\n",
       "             value='Челябинская',\n",
       "             type='область'\n",
       "         ),\n",
       "         AddrPart(\n",
       "             value='Магнитогорск',\n",
       "             type='город'\n",
       "         ),\n",
       "         AddrPart(\n",
       "             value='Кирова',\n",
       "             type='улица'\n",
       "         ),\n",
       "         AddrPart(\n",
       "             value=None,\n",
       "             type='строение'\n",
       "         )]\n",
       "    )\n",
       ")"
      ]
     },
     "metadata": {},
     "output_type": "display_data"
    },
    {
     "name": "stdout",
     "output_type": "stream",
     "text": [
      "г. Тула, ул. Болдина, д.98, к.А, оф.104\n",
      "───────────────────────────────────────\n"
     ]
    },
    {
     "data": {
      "text/plain": [
       "Match(\n",
       "    start=0,\n",
       "    stop=39,\n",
       "    fact=Addr(\n",
       "        parts=[AddrPart(\n",
       "             value='Тула',\n",
       "             type='город'\n",
       "         ),\n",
       "         AddrPart(\n",
       "             value='Болдина',\n",
       "             type='улица'\n",
       "         ),\n",
       "         AddrPart(\n",
       "             value='98',\n",
       "             type='дом'\n",
       "         ),\n",
       "         AddrPart(\n",
       "             value='104',\n",
       "             type='офис'\n",
       "         )]\n",
       "    )\n",
       ")"
      ]
     },
     "metadata": {},
     "output_type": "display_data"
    },
    {
     "name": "stdout",
     "output_type": "stream",
     "text": [
      "Адрес:г. Москва, 1-й Тружеников переулок, дом 14, стр. 2\n",
      "      ──────────────────────────────────────────────────\n"
     ]
    },
    {
     "data": {
      "text/plain": [
       "Match(\n",
       "    start=6,\n",
       "    stop=56,\n",
       "    fact=Addr(\n",
       "        parts=[AddrPart(\n",
       "             value='Москва',\n",
       "             type='город'\n",
       "         ),\n",
       "         AddrPart(\n",
       "             value='1-й Тружеников',\n",
       "             type='переулок'\n",
       "         ),\n",
       "         AddrPart(\n",
       "             value='14',\n",
       "             type='дом'\n",
       "         ),\n",
       "         AddrPart(\n",
       "             value=None,\n",
       "             type='строение'\n",
       "         )]\n",
       "    )\n",
       ")"
      ]
     },
     "metadata": {},
     "output_type": "display_data"
    },
    {
     "name": "stdout",
     "output_type": "stream",
     "text": [
      "г.Самара, ул. Средне-Садовая, 16\n",
      "────────────────────────────    \n"
     ]
    },
    {
     "data": {
      "text/plain": [
       "Match(\n",
       "    start=0,\n",
       "    stop=28,\n",
       "    fact=Addr(\n",
       "        parts=[AddrPart(\n",
       "             value='Самара',\n",
       "             type='город'\n",
       "         ),\n",
       "         AddrPart(\n",
       "             value='Средне-Садовая',\n",
       "             type='улица'\n",
       "         )]\n",
       "    )\n",
       ")"
      ]
     },
     "metadata": {},
     "output_type": "display_data"
    },
    {
     "name": "stdout",
     "output_type": "stream",
     "text": [
      "ООО «Солодовня» - 198035 Санкт-Петербург, ул. Курляндская дом 49, лит.\n",
      "                  ──────────────────────────────────────────────      \n",
      " А.\n"
     ]
    },
    {
     "data": {
      "text/plain": [
       "Match(\n",
       "    start=18,\n",
       "    stop=64,\n",
       "    fact=Addr(\n",
       "        parts=[AddrPart(\n",
       "             value='198035',\n",
       "             type='индекс'\n",
       "         ),\n",
       "         AddrPart(\n",
       "             value='Санкт-Петербург',\n",
       "             type=None\n",
       "         ),\n",
       "         AddrPart(\n",
       "             value='Курляндская',\n",
       "             type='улица'\n",
       "         ),\n",
       "         AddrPart(\n",
       "             value='49',\n",
       "             type='дом'\n",
       "         )]\n",
       "    )\n",
       ")"
      ]
     },
     "metadata": {},
     "output_type": "display_data"
    },
    {
     "name": "stdout",
     "output_type": "stream",
     "text": [
      "г. Оренбург, ул. Чкалова, д. 9\n",
      "──────────────────────────────\n"
     ]
    },
    {
     "data": {
      "text/plain": [
       "Match(\n",
       "    start=0,\n",
       "    stop=30,\n",
       "    fact=Addr(\n",
       "        parts=[AddrPart(\n",
       "             value='Оренбург',\n",
       "             type='город'\n",
       "         ),\n",
       "         AddrPart(\n",
       "             value='Чкалова',\n",
       "             type='улица'\n",
       "         ),\n",
       "         AddrPart(\n",
       "             value='9',\n",
       "             type='дом'\n",
       "         )]\n",
       "    )\n",
       ")"
      ]
     },
     "metadata": {},
     "output_type": "display_data"
    },
    {
     "name": "stdout",
     "output_type": "stream",
     "text": [
      "ИП Власова, г. Москва, ул. Выхино 17, тел. + 79042235380, E-mail : \n",
      "            ─────────                                              \n",
      "vlm1502@mail.ru\n"
     ]
    },
    {
     "data": {
      "text/plain": [
       "Match(\n",
       "    start=12,\n",
       "    stop=21,\n",
       "    fact=Addr(\n",
       "        parts=[AddrPart(\n",
       "             value='Москва',\n",
       "             type='город'\n",
       "         )]\n",
       "    )\n",
       ")"
      ]
     },
     "metadata": {},
     "output_type": "display_data"
    },
    {
     "name": "stdout",
     "output_type": "stream",
     "text": [
      "г.Петропавловск-Камчатский, ул.Дальневосточная 32\n",
      "──────────────────────────────────────────────   \n"
     ]
    },
    {
     "data": {
      "text/plain": [
       "Match(\n",
       "    start=0,\n",
       "    stop=46,\n",
       "    fact=Addr(\n",
       "        parts=[AddrPart(\n",
       "             value='Петропавловск-Камчатский',\n",
       "             type='город'\n",
       "         ),\n",
       "         AddrPart(\n",
       "             value='Дальневосточная',\n",
       "             type='улица'\n",
       "         )]\n",
       "    )\n",
       ")"
      ]
     },
     "metadata": {},
     "output_type": "display_data"
    },
    {
     "name": "stdout",
     "output_type": "stream",
     "text": [
      "г. Симферополь, ул. Гагарина, 14а, офис 215\n",
      "───────────────────────────────────────────\n"
     ]
    },
    {
     "data": {
      "text/plain": [
       "Match(\n",
       "    start=0,\n",
       "    stop=43,\n",
       "    fact=Addr(\n",
       "        parts=[AddrPart(\n",
       "             value='Симферополь',\n",
       "             type='город'\n",
       "         ),\n",
       "         AddrPart(\n",
       "             value='Гагарина',\n",
       "             type='улица'\n",
       "         ),\n",
       "         AddrPart(\n",
       "             value='215',\n",
       "             type='офис'\n",
       "         )]\n",
       "    )\n",
       ")"
      ]
     },
     "metadata": {},
     "output_type": "display_data"
    },
    {
     "name": "stdout",
     "output_type": "stream",
     "text": [
      "среда – 18:00 – 19:30, г. Екатеринбург, Ул. Восстания д. 56, корп. 3.\n",
      "                       ───────────────────────────────────────────── \n"
     ]
    },
    {
     "data": {
      "text/plain": [
       "Match(\n",
       "    start=23,\n",
       "    stop=68,\n",
       "    fact=Addr(\n",
       "        parts=[AddrPart(\n",
       "             value='Екатеринбург',\n",
       "             type='город'\n",
       "         ),\n",
       "         AddrPart(\n",
       "             value='Восстания',\n",
       "             type='улица'\n",
       "         ),\n",
       "         AddrPart(\n",
       "             value='56',\n",
       "             type='дом'\n",
       "         ),\n",
       "         AddrPart(\n",
       "             value='3',\n",
       "             type='корпус'\n",
       "         )]\n",
       "    )\n",
       ")"
      ]
     },
     "metadata": {},
     "output_type": "display_data"
    },
    {
     "name": "stdout",
     "output_type": "stream",
     "text": [
      "г. Москва, Ленинградский проспект, д. 39, стр. 80, башня Б (БЦ\n",
      "─────────────────────────────────────────────────             \n"
     ]
    },
    {
     "data": {
      "text/plain": [
       "Match(\n",
       "    start=0,\n",
       "    stop=49,\n",
       "    fact=Addr(\n",
       "        parts=[AddrPart(\n",
       "             value='Москва',\n",
       "             type='город'\n",
       "         ),\n",
       "         AddrPart(\n",
       "             value='Ленинградский',\n",
       "             type='проспект'\n",
       "         ),\n",
       "         AddrPart(\n",
       "             value='39',\n",
       "             type='дом'\n",
       "         ),\n",
       "         AddrPart(\n",
       "             value=None,\n",
       "             type='строение'\n",
       "         )]\n",
       "    )\n",
       ")"
      ]
     },
     "metadata": {},
     "output_type": "display_data"
    },
    {
     "name": "stdout",
     "output_type": "stream",
     "text": [
      "Адрес: 658207, Алтайский край г.Рубцовск, ул.Комсомольская , д.127, \n",
      "       ─────────────────────────────────────────────────────────────\n",
      "оф.21\n",
      "─────\n"
     ]
    },
    {
     "data": {
      "text/plain": [
       "Match(\n",
       "    start=7,\n",
       "    stop=73,\n",
       "    fact=Addr(\n",
       "        parts=[AddrPart(\n",
       "             value='658207',\n",
       "             type='индекс'\n",
       "         ),\n",
       "         AddrPart(\n",
       "             value='Алтайский',\n",
       "             type='край'\n",
       "         ),\n",
       "         AddrPart(\n",
       "             value='Рубцовск',\n",
       "             type='город'\n",
       "         ),\n",
       "         AddrPart(\n",
       "             value='Комсомольская',\n",
       "             type='улица'\n",
       "         ),\n",
       "         AddrPart(\n",
       "             value='127',\n",
       "             type='дом'\n",
       "         ),\n",
       "         AddrPart(\n",
       "             value='21',\n",
       "             type='офис'\n",
       "         )]\n",
       "    )\n",
       ")"
      ]
     },
     "metadata": {},
     "output_type": "display_data"
    },
    {
     "name": "stdout",
     "output_type": "stream",
     "text": [
      "Адрес: Московская область, Сергиево-Посадский р-н, пос. Мишутино, д. 3\n",
      "       ───────────────────────────────────────────────────────────────\n",
      " Б\n",
      "──\n"
     ]
    },
    {
     "data": {
      "text/plain": [
       "Match(\n",
       "    start=7,\n",
       "    stop=72,\n",
       "    fact=Addr(\n",
       "        parts=[AddrPart(\n",
       "             value='Московская',\n",
       "             type='область'\n",
       "         ),\n",
       "         AddrPart(\n",
       "             value='Посадский',\n",
       "             type='район'\n",
       "         ),\n",
       "         AddrPart(\n",
       "             value='Мишутино',\n",
       "             type='посёлок'\n",
       "         ),\n",
       "         AddrPart(\n",
       "             value='3 Б',\n",
       "             type='дом'\n",
       "         )]\n",
       "    )\n",
       ")"
      ]
     },
     "metadata": {},
     "output_type": "display_data"
    },
    {
     "name": "stdout",
     "output_type": "stream",
     "text": [
      "г.Челябинск, ул.Дарвина, 14, оф.224\n",
      "───────────────────────────────────\n"
     ]
    },
    {
     "data": {
      "text/plain": [
       "Match(\n",
       "    start=0,\n",
       "    stop=35,\n",
       "    fact=Addr(\n",
       "        parts=[AddrPart(\n",
       "             value='Челябинск',\n",
       "             type='город'\n",
       "         ),\n",
       "         AddrPart(\n",
       "             value='Дарвина',\n",
       "             type='улица'\n",
       "         ),\n",
       "         AddrPart(\n",
       "             value='224',\n",
       "             type='офис'\n",
       "         )]\n",
       "    )\n",
       ")"
      ]
     },
     "metadata": {},
     "output_type": "display_data"
    },
    {
     "name": "stdout",
     "output_type": "stream",
     "text": [
      "г. Тула, ул. Макаренко 9б\n",
      "──────────────────────   \n"
     ]
    },
    {
     "data": {
      "text/plain": [
       "Match(\n",
       "    start=0,\n",
       "    stop=22,\n",
       "    fact=Addr(\n",
       "        parts=[AddrPart(\n",
       "             value='Тула',\n",
       "             type='город'\n",
       "         ),\n",
       "         AddrPart(\n",
       "             value='Макаренко',\n",
       "             type='улица'\n",
       "         )]\n",
       "    )\n",
       ")"
      ]
     },
     "metadata": {},
     "output_type": "display_data"
    },
    {
     "name": "stdout",
     "output_type": "stream",
     "text": [
      "191014, Санкт-Петербург, ст.м. «Чернышевская», Саперный переулок, дом \n",
      "──────────────────────────────────────────────────────────────────────\n",
      "20, Литера А, офис 01\n",
      "─────────────────────\n"
     ]
    },
    {
     "data": {
      "text/plain": [
       "Match(\n",
       "    start=0,\n",
       "    stop=91,\n",
       "    fact=Addr(\n",
       "        parts=[AddrPart(\n",
       "             value='191014',\n",
       "             type='индекс'\n",
       "         ),\n",
       "         AddrPart(\n",
       "             value='Санкт-Петербург',\n",
       "             type=None\n",
       "         ),\n",
       "         AddrPart(\n",
       "             value='Саперный',\n",
       "             type='переулок'\n",
       "         ),\n",
       "         AddrPart(\n",
       "             value='20',\n",
       "             type='дом'\n",
       "         ),\n",
       "         AddrPart(\n",
       "             value='01',\n",
       "             type='офис'\n",
       "         )]\n",
       "    )\n",
       ")"
      ]
     },
     "metadata": {},
     "output_type": "display_data"
    },
    {
     "name": "stdout",
     "output_type": "stream",
     "text": [
      "г. Краснодар, угол ул. Российской и ул. Петра Метальникова, 2\n",
      "──────────────────────────────────────────────────────────   \n"
     ]
    },
    {
     "data": {
      "text/plain": [
       "Match(\n",
       "    start=0,\n",
       "    stop=58,\n",
       "    fact=Addr(\n",
       "        parts=[AddrPart(\n",
       "             value='Краснодар',\n",
       "             type='город'\n",
       "         ),\n",
       "         AddrPart(\n",
       "             value='Российской и',\n",
       "             type='улица'\n",
       "         ),\n",
       "         AddrPart(\n",
       "             value='Петра Метальникова',\n",
       "             type='улица'\n",
       "         )]\n",
       "    )\n",
       ")"
      ]
     },
     "metadata": {},
     "output_type": "display_data"
    },
    {
     "name": "stdout",
     "output_type": "stream",
     "text": [
      "пр. Победы д.161\n",
      "────────────────\n"
     ]
    },
    {
     "data": {
      "text/plain": [
       "Match(\n",
       "    start=0,\n",
       "    stop=16,\n",
       "    fact=Addr(\n",
       "        parts=[AddrPart(\n",
       "             value='Победы',\n",
       "             type='проспект'\n",
       "         ),\n",
       "         AddrPart(\n",
       "             value='161',\n",
       "             type='дом'\n",
       "         )]\n",
       "    )\n",
       ")"
      ]
     },
     "metadata": {},
     "output_type": "display_data"
    },
    {
     "name": "stdout",
     "output_type": "stream",
     "text": [
      "ул. Лечебная, д.24 А\n",
      "────────────────────\n"
     ]
    },
    {
     "data": {
      "text/plain": [
       "Match(\n",
       "    start=0,\n",
       "    stop=20,\n",
       "    fact=Addr(\n",
       "        parts=[AddrPart(\n",
       "             value='Лечебная',\n",
       "             type='улица'\n",
       "         ),\n",
       "         AddrPart(\n",
       "             value='24 А',\n",
       "             type='дом'\n",
       "         )]\n",
       "    )\n",
       ")"
      ]
     },
     "metadata": {},
     "output_type": "display_data"
    },
    {
     "name": "stdout",
     "output_type": "stream",
     "text": [
      "422545, респ. Татарстан, г.Зеленодольск, ул. Королева, д.26, офис 23\n",
      "────────────────────────────────────────────────────────────────────\n"
     ]
    },
    {
     "data": {
      "text/plain": [
       "Match(\n",
       "    start=0,\n",
       "    stop=68,\n",
       "    fact=Addr(\n",
       "        parts=[AddrPart(\n",
       "             value='422545',\n",
       "             type='индекс'\n",
       "         ),\n",
       "         AddrPart(\n",
       "             value='Татарстан',\n",
       "             type='республика'\n",
       "         ),\n",
       "         AddrPart(\n",
       "             value='Зеленодольск',\n",
       "             type='город'\n",
       "         ),\n",
       "         AddrPart(\n",
       "             value='Королева',\n",
       "             type='улица'\n",
       "         ),\n",
       "         AddrPart(\n",
       "             value='26',\n",
       "             type='дом'\n",
       "         ),\n",
       "         AddrPart(\n",
       "             value='23',\n",
       "             type='офис'\n",
       "         )]\n",
       "    )\n",
       ")"
      ]
     },
     "metadata": {},
     "output_type": "display_data"
    },
    {
     "name": "stdout",
     "output_type": "stream",
     "text": [
      "5 | Проректор по научно-образовательной деятельности |  |  | 625000, \n",
      "                                                             ────────\n",
      "г. Тюмень,ул. Володарского, 38, каб. 238\n",
      "──────────────────────────              \n"
     ]
    },
    {
     "data": {
      "text/plain": [
       "Match(\n",
       "    start=61,\n",
       "    stop=95,\n",
       "    fact=Addr(\n",
       "        parts=[AddrPart(\n",
       "             value='625000',\n",
       "             type='индекс'\n",
       "         ),\n",
       "         AddrPart(\n",
       "             value='Тюмень',\n",
       "             type='город'\n",
       "         ),\n",
       "         AddrPart(\n",
       "             value='Володарского',\n",
       "             type='улица'\n",
       "         )]\n",
       "    )\n",
       ")"
      ]
     },
     "metadata": {},
     "output_type": "display_data"
    },
    {
     "name": "stdout",
     "output_type": "stream",
     "text": [
      "(C) Хостелы Рус-Воронеж, 2015-2016\\. г. Воронеж, ул. Комиссаржевской, \n",
      "                ──────────────────────────────────────────────────────\n",
      "д. 15Б\n",
      "──────\n"
     ]
    },
    {
     "data": {
      "text/plain": [
       "Match(\n",
       "    start=16,\n",
       "    stop=76,\n",
       "    fact=Addr(\n",
       "        parts=[AddrPart(\n",
       "             value='Воронеж',\n",
       "             type=None\n",
       "         ),\n",
       "         AddrPart(\n",
       "             value='Воронеж',\n",
       "             type='город'\n",
       "         ),\n",
       "         AddrPart(\n",
       "             value='Комиссаржевской',\n",
       "             type='улица'\n",
       "         ),\n",
       "         AddrPart(\n",
       "             value='15Б',\n",
       "             type='дом'\n",
       "         )]\n",
       "    )\n",
       ")"
      ]
     },
     "metadata": {},
     "output_type": "display_data"
    },
    {
     "name": "stdout",
     "output_type": "stream",
     "text": [
      "Москва, Ленинградский проспект, дом 23, комната 32.\n",
      "──────────────────────────────────────             \n"
     ]
    },
    {
     "data": {
      "text/plain": [
       "Match(\n",
       "    start=0,\n",
       "    stop=38,\n",
       "    fact=Addr(\n",
       "        parts=[AddrPart(\n",
       "             value='Москва',\n",
       "             type=None\n",
       "         ),\n",
       "         AddrPart(\n",
       "             value='Ленинградский',\n",
       "             type='проспект'\n",
       "         ),\n",
       "         AddrPart(\n",
       "             value='23',\n",
       "             type='дом'\n",
       "         )]\n",
       "    )\n",
       ")"
      ]
     },
     "metadata": {},
     "output_type": "display_data"
    },
    {
     "name": "stdout",
     "output_type": "stream",
     "text": [
      "5 автохода в г. Нюрба (2004 г\n",
      "             ────────        \n"
     ]
    },
    {
     "data": {
      "text/plain": [
       "Match(\n",
       "    start=13,\n",
       "    stop=21,\n",
       "    fact=Addr(\n",
       "        parts=[AddrPart(\n",
       "             value='Нюрба',\n",
       "             type='город'\n",
       "         )]\n",
       "    )\n",
       ")"
      ]
     },
     "metadata": {},
     "output_type": "display_data"
    },
    {
     "name": "stdout",
     "output_type": "stream",
     "text": [
      "адрес:   427790, г. Можга, Базарная площадь, 7/2\n",
      "         ──────────────────────────────────     \n"
     ]
    },
    {
     "data": {
      "text/plain": [
       "Match(\n",
       "    start=9,\n",
       "    stop=43,\n",
       "    fact=Addr(\n",
       "        parts=[AddrPart(\n",
       "             value='427790',\n",
       "             type='индекс'\n",
       "         ),\n",
       "         AddrPart(\n",
       "             value='Можга',\n",
       "             type='город'\n",
       "         ),\n",
       "         AddrPart(\n",
       "             value='Базарная',\n",
       "             type='площадь'\n",
       "         )]\n",
       "    )\n",
       ")"
      ]
     },
     "metadata": {},
     "output_type": "display_data"
    },
    {
     "name": "stdout",
     "output_type": "stream",
     "text": [
      "г.Махачкала пр-т И.Шамиля, д.58/а\n",
      "─────────────────────────────────\n"
     ]
    },
    {
     "data": {
      "text/plain": [
       "Match(\n",
       "    start=0,\n",
       "    stop=33,\n",
       "    fact=Addr(\n",
       "        parts=[AddrPart(\n",
       "             value='Махачкала',\n",
       "             type='город'\n",
       "         ),\n",
       "         AddrPart(\n",
       "             value='И.Шамиля',\n",
       "             type='проспект'\n",
       "         ),\n",
       "         AddrPart(\n",
       "             value='58/а',\n",
       "             type='дом'\n",
       "         )]\n",
       "    )\n",
       ")"
      ]
     },
     "metadata": {},
     "output_type": "display_data"
    },
    {
     "name": "stdout",
     "output_type": "stream",
     "text": [
      "394016 г. Воронеж  ул. 45 Стрелковой дивизии, 224, 4 этаж\n",
      "────────────────────────────────────────────             \n"
     ]
    },
    {
     "data": {
      "text/plain": [
       "Match(\n",
       "    start=0,\n",
       "    stop=44,\n",
       "    fact=Addr(\n",
       "        parts=[AddrPart(\n",
       "             value='394016',\n",
       "             type='индекс'\n",
       "         ),\n",
       "         AddrPart(\n",
       "             value='Воронеж',\n",
       "             type='город'\n",
       "         ),\n",
       "         AddrPart(\n",
       "             value='45 Стрелковой дивизии',\n",
       "             type='улица'\n",
       "         )]\n",
       "    )\n",
       ")"
      ]
     },
     "metadata": {},
     "output_type": "display_data"
    },
    {
     "name": "stdout",
     "output_type": "stream",
     "text": [
      "127018, г. Москва, ул. Складочная, д.1, стр.18, офис 442\n",
      "────────────────────────────────────────────────────────\n"
     ]
    },
    {
     "data": {
      "text/plain": [
       "Match(\n",
       "    start=0,\n",
       "    stop=56,\n",
       "    fact=Addr(\n",
       "        parts=[AddrPart(\n",
       "             value='127018',\n",
       "             type='индекс'\n",
       "         ),\n",
       "         AddrPart(\n",
       "             value='Москва',\n",
       "             type='город'\n",
       "         ),\n",
       "         AddrPart(\n",
       "             value='Складочная',\n",
       "             type='улица'\n",
       "         ),\n",
       "         AddrPart(\n",
       "             value='1',\n",
       "             type='дом'\n",
       "         ),\n",
       "         AddrPart(\n",
       "             value=None,\n",
       "             type='строение'\n",
       "         ),\n",
       "         AddrPart(\n",
       "             value='442',\n",
       "             type='офис'\n",
       "         )]\n",
       "    )\n",
       ")"
      ]
     },
     "metadata": {},
     "output_type": "display_data"
    },
    {
     "name": "stdout",
     "output_type": "stream",
     "text": [
      "614000, г. Пермь, Комсомольский проспект,29\n",
      "────────────────────────────────────────   \n"
     ]
    },
    {
     "data": {
      "text/plain": [
       "Match(\n",
       "    start=0,\n",
       "    stop=40,\n",
       "    fact=Addr(\n",
       "        parts=[AddrPart(\n",
       "             value='614000',\n",
       "             type='индекс'\n",
       "         ),\n",
       "         AddrPart(\n",
       "             value='Пермь',\n",
       "             type='город'\n",
       "         ),\n",
       "         AddrPart(\n",
       "             value='Комсомольский',\n",
       "             type='проспект'\n",
       "         )]\n",
       "    )\n",
       ")"
      ]
     },
     "metadata": {},
     "output_type": "display_data"
    },
    {
     "name": "stdout",
     "output_type": "stream",
     "text": [
      "410005 г. Саратов, ул. Танкистов, д. 1.\n",
      "────────────────────────────────────── \n"
     ]
    },
    {
     "data": {
      "text/plain": [
       "Match(\n",
       "    start=0,\n",
       "    stop=38,\n",
       "    fact=Addr(\n",
       "        parts=[AddrPart(\n",
       "             value='410005',\n",
       "             type='индекс'\n",
       "         ),\n",
       "         AddrPart(\n",
       "             value='Саратов',\n",
       "             type='город'\n",
       "         ),\n",
       "         AddrPart(\n",
       "             value='Танкистов',\n",
       "             type='улица'\n",
       "         ),\n",
       "         AddrPart(\n",
       "             value='1',\n",
       "             type='дом'\n",
       "         )]\n",
       "    )\n",
       ")"
      ]
     },
     "metadata": {},
     "output_type": "display_data"
    },
    {
     "name": "stdout",
     "output_type": "stream",
     "text": [
      "Адрес фактического местонахождения  органов управления управляющей \n",
      "организации: 171080, Тверская область г.Бологое, ул.Октябрьская, д.1\n",
      "             ───────────────────────────────────────────────────────\n"
     ]
    },
    {
     "data": {
      "text/plain": [
       "Match(\n",
       "    start=80,\n",
       "    stop=135,\n",
       "    fact=Addr(\n",
       "        parts=[AddrPart(\n",
       "             value='171080',\n",
       "             type='индекс'\n",
       "         ),\n",
       "         AddrPart(\n",
       "             value='Тверская',\n",
       "             type='область'\n",
       "         ),\n",
       "         AddrPart(\n",
       "             value='Бологое',\n",
       "             type='город'\n",
       "         ),\n",
       "         AddrPart(\n",
       "             value='Октябрьская',\n",
       "             type='улица'\n",
       "         ),\n",
       "         AddrPart(\n",
       "             value='1',\n",
       "             type='дом'\n",
       "         )]\n",
       "    )\n",
       ")"
      ]
     },
     "metadata": {},
     "output_type": "display_data"
    },
    {
     "name": "stdout",
     "output_type": "stream",
     "text": [
      "ул. 50-ой Армии, д. 3\n",
      "─────────────────────\n"
     ]
    },
    {
     "data": {
      "text/plain": [
       "Match(\n",
       "    start=0,\n",
       "    stop=21,\n",
       "    fact=Addr(\n",
       "        parts=[AddrPart(\n",
       "             value='50-ой Армии',\n",
       "             type='улица'\n",
       "         ),\n",
       "         AddrPart(\n",
       "             value='3',\n",
       "             type='дом'\n",
       "         )]\n",
       "    )\n",
       ")"
      ]
     },
     "metadata": {},
     "output_type": "display_data"
    },
    {
     "name": "stdout",
     "output_type": "stream",
     "text": [
      "Адрес: 193079, г. Санкт-Петербург, Октябрьская наб., д. 74-2-18.\n",
      "       ─────────────────────────────────────────────────────    \n"
     ]
    },
    {
     "data": {
      "text/plain": [
       "Match(\n",
       "    start=7,\n",
       "    stop=60,\n",
       "    fact=Addr(\n",
       "        parts=[AddrPart(\n",
       "             value='193079',\n",
       "             type='индекс'\n",
       "         ),\n",
       "         AddrPart(\n",
       "             value='Санкт-Петербург',\n",
       "             type='город'\n",
       "         ),\n",
       "         AddrPart(\n",
       "             value='Октябрьская',\n",
       "             type='набережная'\n",
       "         ),\n",
       "         AddrPart(\n",
       "             value='74-2',\n",
       "             type='дом'\n",
       "         )]\n",
       "    )\n",
       ")"
      ]
     },
     "metadata": {},
     "output_type": "display_data"
    },
    {
     "name": "stdout",
     "output_type": "stream",
     "text": [
      "Юридический адрес: 654057 г. Новокузнецк, пр-т Бардина д.21 оф.15\n",
      "                   ──────────────────────────────────────────────\n"
     ]
    },
    {
     "data": {
      "text/plain": [
       "Match(\n",
       "    start=19,\n",
       "    stop=65,\n",
       "    fact=Addr(\n",
       "        parts=[AddrPart(\n",
       "             value='654057',\n",
       "             type='индекс'\n",
       "         ),\n",
       "         AddrPart(\n",
       "             value='Новокузнецк',\n",
       "             type='город'\n",
       "         ),\n",
       "         AddrPart(\n",
       "             value='Бардина',\n",
       "             type='проспект'\n",
       "         ),\n",
       "         AddrPart(\n",
       "             value='21',\n",
       "             type='дом'\n",
       "         ),\n",
       "         AddrPart(\n",
       "             value='15',\n",
       "             type='офис'\n",
       "         )]\n",
       "    )\n",
       ")"
      ]
     },
     "metadata": {},
     "output_type": "display_data"
    },
    {
     "name": "stdout",
     "output_type": "stream",
     "text": [
      "Россия, Челябинск, ул. Свободы, д.155, 18\n",
      "─────────────────────────────────────    \n"
     ]
    },
    {
     "data": {
      "text/plain": [
       "Match(\n",
       "    start=0,\n",
       "    stop=37,\n",
       "    fact=Addr(\n",
       "        parts=[AddrPart(\n",
       "             value='Россия',\n",
       "             type='страна'\n",
       "         ),\n",
       "         AddrPart(\n",
       "             value='Челябинск',\n",
       "             type=None\n",
       "         ),\n",
       "         AddrPart(\n",
       "             value='Свободы',\n",
       "             type='улица'\n",
       "         ),\n",
       "         AddrPart(\n",
       "             value='155',\n",
       "             type='дом'\n",
       "         )]\n",
       "    )\n",
       ")"
      ]
     },
     "metadata": {},
     "output_type": "display_data"
    },
    {
     "name": "stdout",
     "output_type": "stream",
     "text": [
      "г. Иркутск, ул. Челябинская, 26у\n",
      "───────────────────────────     \n"
     ]
    },
    {
     "data": {
      "text/plain": [
       "Match(\n",
       "    start=0,\n",
       "    stop=27,\n",
       "    fact=Addr(\n",
       "        parts=[AddrPart(\n",
       "             value='Иркутск',\n",
       "             type='город'\n",
       "         ),\n",
       "         AddrPart(\n",
       "             value='Челябинская',\n",
       "             type='улица'\n",
       "         )]\n",
       "    )\n",
       ")"
      ]
     },
     "metadata": {},
     "output_type": "display_data"
    },
    {
     "name": "stdout",
     "output_type": "stream",
     "text": [
      "400074, г. Волгоград, ул. Баррикадная, д.1Д оф. 103\n",
      "───────────────────────────────────────────────────\n"
     ]
    },
    {
     "data": {
      "text/plain": [
       "Match(\n",
       "    start=0,\n",
       "    stop=51,\n",
       "    fact=Addr(\n",
       "        parts=[AddrPart(\n",
       "             value='400074',\n",
       "             type='индекс'\n",
       "         ),\n",
       "         AddrPart(\n",
       "             value='Волгоград',\n",
       "             type='город'\n",
       "         ),\n",
       "         AddrPart(\n",
       "             value='Баррикадная',\n",
       "             type='улица'\n",
       "         ),\n",
       "         AddrPart(\n",
       "             value='1Д',\n",
       "             type='дом'\n",
       "         ),\n",
       "         AddrPart(\n",
       "             value='103',\n",
       "             type='офис'\n",
       "         )]\n",
       "    )\n",
       ")"
      ]
     },
     "metadata": {},
     "output_type": "display_data"
    },
    {
     "name": "stdout",
     "output_type": "stream",
     "text": [
      "СДК Мельчевка\"\" : строение 74,  п. Мельчевка, сельское поселение \n",
      "                  ───────────────────────────────────────────────\n",
      "Куликовское , Дмитровский район, Московская область, 141832\"\n",
      "─────────────────────────────────────────────────────────── \n"
     ]
    },
    {
     "data": {
      "text/plain": [
       "Match(\n",
       "    start=18,\n",
       "    stop=124,\n",
       "    fact=Addr(\n",
       "        parts=[AddrPart(\n",
       "             value=None,\n",
       "             type='строение'\n",
       "         ),\n",
       "         AddrPart(\n",
       "             value='Мельчевка',\n",
       "             type='посёлок'\n",
       "         ),\n",
       "         AddrPart(\n",
       "             value='Дмитровский',\n",
       "             type='район'\n",
       "         ),\n",
       "         AddrPart(\n",
       "             value='Московская',\n",
       "             type='область'\n",
       "         ),\n",
       "         AddrPart(\n",
       "             value='141832',\n",
       "             type='индекс'\n",
       "         )]\n",
       "    )\n",
       ")"
      ]
     },
     "metadata": {},
     "output_type": "display_data"
    },
    {
     "name": "stdout",
     "output_type": "stream",
     "text": [
      "Почтовый адрес: 300016, г.Тула, ул.Пржевальского, д.12\n",
      "                ──────────────────────────────────────\n"
     ]
    },
    {
     "data": {
      "text/plain": [
       "Match(\n",
       "    start=16,\n",
       "    stop=54,\n",
       "    fact=Addr(\n",
       "        parts=[AddrPart(\n",
       "             value='300016',\n",
       "             type='индекс'\n",
       "         ),\n",
       "         AddrPart(\n",
       "             value='Тула',\n",
       "             type='город'\n",
       "         ),\n",
       "         AddrPart(\n",
       "             value='Пржевальского',\n",
       "             type='улица'\n",
       "         ),\n",
       "         AddrPart(\n",
       "             value='12',\n",
       "             type='дом'\n",
       "         )]\n",
       "    )\n",
       ")"
      ]
     },
     "metadata": {},
     "output_type": "display_data"
    },
    {
     "name": "stdout",
     "output_type": "stream",
     "text": [
      "г. Москва, Пресненская наб., д.6, стр.2, БЦ\n",
      "───────────────────────────────────────    \n"
     ]
    },
    {
     "data": {
      "text/plain": [
       "Match(\n",
       "    start=0,\n",
       "    stop=39,\n",
       "    fact=Addr(\n",
       "        parts=[AddrPart(\n",
       "             value='Москва',\n",
       "             type='город'\n",
       "         ),\n",
       "         AddrPart(\n",
       "             value='Пресненская',\n",
       "             type='набережная'\n",
       "         ),\n",
       "         AddrPart(\n",
       "             value='6',\n",
       "             type='дом'\n",
       "         ),\n",
       "         AddrPart(\n",
       "             value=None,\n",
       "             type='строение'\n",
       "         )]\n",
       "    )\n",
       ")"
      ]
     },
     "metadata": {},
     "output_type": "display_data"
    },
    {
     "name": "stdout",
     "output_type": "stream",
     "text": [
      "Московская обл, гор. Балашиха, ул. Советская, дом 19Б, оф.8\n",
      "───────────────────────────────────────────────────────────\n"
     ]
    },
    {
     "data": {
      "text/plain": [
       "Match(\n",
       "    start=0,\n",
       "    stop=59,\n",
       "    fact=Addr(\n",
       "        parts=[AddrPart(\n",
       "             value='Московская',\n",
       "             type='область'\n",
       "         ),\n",
       "         AddrPart(\n",
       "             value='Балашиха',\n",
       "             type=None\n",
       "         ),\n",
       "         AddrPart(\n",
       "             value='Советская',\n",
       "             type='улица'\n",
       "         ),\n",
       "         AddrPart(\n",
       "             value='19Б',\n",
       "             type='дом'\n",
       "         ),\n",
       "         AddrPart(\n",
       "             value='8',\n",
       "             type='офис'\n",
       "         )]\n",
       "    )\n",
       ")"
      ]
     },
     "metadata": {},
     "output_type": "display_data"
    },
    {
     "name": "stdout",
     "output_type": "stream",
     "text": [
      "Россия, 125130, г. Москва, Старопетровский проезд, дом 11, корпус 2\n",
      "───────────────────────────────────────────────────────────────────\n"
     ]
    },
    {
     "data": {
      "text/plain": [
       "Match(\n",
       "    start=0,\n",
       "    stop=67,\n",
       "    fact=Addr(\n",
       "        parts=[AddrPart(\n",
       "             value='Россия',\n",
       "             type='страна'\n",
       "         ),\n",
       "         AddrPart(\n",
       "             value='125130',\n",
       "             type='индекс'\n",
       "         ),\n",
       "         AddrPart(\n",
       "             value='Москва',\n",
       "             type='город'\n",
       "         ),\n",
       "         AddrPart(\n",
       "             value='Старопетровский',\n",
       "             type='проезд'\n",
       "         ),\n",
       "         AddrPart(\n",
       "             value='11',\n",
       "             type='дом'\n",
       "         ),\n",
       "         AddrPart(\n",
       "             value='2',\n",
       "             type='корпус'\n",
       "         )]\n",
       "    )\n",
       ")"
      ]
     },
     "metadata": {},
     "output_type": "display_data"
    },
    {
     "name": "stdout",
     "output_type": "stream",
     "text": [
      "Амурская область, г.Благовещенск, ул.Тенистая, д.127, бизнес центр \n",
      "────────────────────────────────────────────────────               \n",
      "ТАНДЕМ\n"
     ]
    },
    {
     "data": {
      "text/plain": [
       "Match(\n",
       "    start=0,\n",
       "    stop=52,\n",
       "    fact=Addr(\n",
       "        parts=[AddrPart(\n",
       "             value='Амурская',\n",
       "             type='область'\n",
       "         ),\n",
       "         AddrPart(\n",
       "             value='Благовещенск',\n",
       "             type='город'\n",
       "         ),\n",
       "         AddrPart(\n",
       "             value='Тенистая',\n",
       "             type='улица'\n",
       "         ),\n",
       "         AddrPart(\n",
       "             value='127',\n",
       "             type='дом'\n",
       "         )]\n",
       "    )\n",
       ")"
      ]
     },
     "metadata": {},
     "output_type": "display_data"
    },
    {
     "name": "stdout",
     "output_type": "stream",
     "text": [
      "ул. Большая Ордынка, д.24\n",
      "─────────────────────────\n"
     ]
    },
    {
     "data": {
      "text/plain": [
       "Match(\n",
       "    start=0,\n",
       "    stop=25,\n",
       "    fact=Addr(\n",
       "        parts=[AddrPart(\n",
       "             value='Большая Ордынка',\n",
       "             type='улица'\n",
       "         ),\n",
       "         AddrPart(\n",
       "             value='24',\n",
       "             type='дом'\n",
       "         )]\n",
       "    )\n",
       ")"
      ]
     },
     "metadata": {},
     "output_type": "display_data"
    },
    {
     "name": "stdout",
     "output_type": "stream",
     "text": [
      "Адрес: 195279, Санкт-Петербург, Индустриальный пр., д.45, литер А, \n",
      "       ────────────────────────────────────────────────────────────\n",
      "офис 209\n",
      "────────\n"
     ]
    },
    {
     "data": {
      "text/plain": [
       "Match(\n",
       "    start=7,\n",
       "    stop=75,\n",
       "    fact=Addr(\n",
       "        parts=[AddrPart(\n",
       "             value='195279',\n",
       "             type='индекс'\n",
       "         ),\n",
       "         AddrPart(\n",
       "             value='Санкт-Петербург',\n",
       "             type=None\n",
       "         ),\n",
       "         AddrPart(\n",
       "             value='Индустриальный',\n",
       "             type='проспект'\n",
       "         ),\n",
       "         AddrPart(\n",
       "             value='45',\n",
       "             type='дом'\n",
       "         ),\n",
       "         AddrPart(\n",
       "             value='209',\n",
       "             type='офис'\n",
       "         )]\n",
       "    )\n",
       ")"
      ]
     },
     "metadata": {},
     "output_type": "display_data"
    },
    {
     "name": "stdout",
     "output_type": "stream",
     "text": [
      "ул. Дорожная д. 101\n",
      "───────────────────\n"
     ]
    },
    {
     "data": {
      "text/plain": [
       "Match(\n",
       "    start=0,\n",
       "    stop=19,\n",
       "    fact=Addr(\n",
       "        parts=[AddrPart(\n",
       "             value='Дорожная',\n",
       "             type='улица'\n",
       "         ),\n",
       "         AddrPart(\n",
       "             value='101',\n",
       "             type='дом'\n",
       "         )]\n",
       "    )\n",
       ")"
      ]
     },
     "metadata": {},
     "output_type": "display_data"
    },
    {
     "name": "stdout",
     "output_type": "stream",
     "text": [
      "2017-05-23 г. Уссурийск, ул. Ленинградская , д.21б\n",
      "           ───────────────────────────────────────\n"
     ]
    },
    {
     "data": {
      "text/plain": [
       "Match(\n",
       "    start=11,\n",
       "    stop=50,\n",
       "    fact=Addr(\n",
       "        parts=[AddrPart(\n",
       "             value='Уссурийск',\n",
       "             type='город'\n",
       "         ),\n",
       "         AddrPart(\n",
       "             value='Ленинградская',\n",
       "             type='улица'\n",
       "         ),\n",
       "         AddrPart(\n",
       "             value='21б',\n",
       "             type='дом'\n",
       "         )]\n",
       "    )\n",
       ")"
      ]
     },
     "metadata": {},
     "output_type": "display_data"
    },
    {
     "name": "stdout",
     "output_type": "stream",
     "text": [
      "125040, г.Москва, Ленинградский проспект, д.13, стр.1\n",
      "─────────────────────────────────────────────────────\n"
     ]
    },
    {
     "data": {
      "text/plain": [
       "Match(\n",
       "    start=0,\n",
       "    stop=53,\n",
       "    fact=Addr(\n",
       "        parts=[AddrPart(\n",
       "             value='125040',\n",
       "             type='индекс'\n",
       "         ),\n",
       "         AddrPart(\n",
       "             value='Москва',\n",
       "             type='город'\n",
       "         ),\n",
       "         AddrPart(\n",
       "             value='Ленинградский',\n",
       "             type='проспект'\n",
       "         ),\n",
       "         AddrPart(\n",
       "             value='13',\n",
       "             type='дом'\n",
       "         ),\n",
       "         AddrPart(\n",
       "             value=None,\n",
       "             type='строение'\n",
       "         )]\n",
       "    )\n",
       ")"
      ]
     },
     "metadata": {},
     "output_type": "display_data"
    },
    {
     "name": "stdout",
     "output_type": "stream",
     "text": [
      "г. Комсомольск-на-Амуре | Рекламно-информационное агентство \n",
      "────────────────────────────────────────────────────────────\n",
      "«Абитуриент» | г. Комсомольск-на-Амуре, пр. Ленина, 44, корп. 4, офис \n",
      "──────────────────────────────────────────────────────────────────────\n",
      "100-А | (4217) 53-01-58\n",
      "─────                  \n"
     ]
    },
    {
     "data": {
      "text/plain": [
       "Match(\n",
       "    start=0,\n",
       "    stop=135,\n",
       "    fact=Addr(\n",
       "        parts=[AddrPart(\n",
       "             value='Комсомольск-на-Амуре',\n",
       "             type='город'\n",
       "         ),\n",
       "         AddrPart(\n",
       "             value='Комсомольск-на-Амуре',\n",
       "             type='город'\n",
       "         ),\n",
       "         AddrPart(\n",
       "             value='Ленина',\n",
       "             type='проспект'\n",
       "         ),\n",
       "         AddrPart(\n",
       "             value='4',\n",
       "             type='корпус'\n",
       "         ),\n",
       "         AddrPart(\n",
       "             value='100-А',\n",
       "             type='офис'\n",
       "         )]\n",
       "    )\n",
       ")"
      ]
     },
     "metadata": {},
     "output_type": "display_data"
    },
    {
     "name": "stdout",
     "output_type": "stream",
     "text": [
      "Россия, 127015, г. Москва, ул. Новодмитровская, д. 5а, стр. 1\n",
      "─────────────────────────────────────────────────────────────\n"
     ]
    },
    {
     "data": {
      "text/plain": [
       "Match(\n",
       "    start=0,\n",
       "    stop=61,\n",
       "    fact=Addr(\n",
       "        parts=[AddrPart(\n",
       "             value='Россия',\n",
       "             type='страна'\n",
       "         ),\n",
       "         AddrPart(\n",
       "             value='127015',\n",
       "             type='индекс'\n",
       "         ),\n",
       "         AddrPart(\n",
       "             value='Москва',\n",
       "             type='город'\n",
       "         ),\n",
       "         AddrPart(\n",
       "             value='Новодмитровская',\n",
       "             type='улица'\n",
       "         ),\n",
       "         AddrPart(\n",
       "             value='5а',\n",
       "             type='дом'\n",
       "         ),\n",
       "         AddrPart(\n",
       "             value=None,\n",
       "             type='строение'\n",
       "         )]\n",
       "    )\n",
       ")"
      ]
     },
     "metadata": {},
     "output_type": "display_data"
    },
    {
     "name": "stdout",
     "output_type": "stream",
     "text": [
      "454112  г.Челябинск, проспект Победы, 306 а\n",
      "────────────────────────────────────       \n"
     ]
    },
    {
     "data": {
      "text/plain": [
       "Match(\n",
       "    start=0,\n",
       "    stop=36,\n",
       "    fact=Addr(\n",
       "        parts=[AddrPart(\n",
       "             value='454112',\n",
       "             type='индекс'\n",
       "         ),\n",
       "         AddrPart(\n",
       "             value='Челябинск',\n",
       "             type='город'\n",
       "         ),\n",
       "         AddrPart(\n",
       "             value='Победы',\n",
       "             type='проспект'\n",
       "         )]\n",
       "    )\n",
       ")"
      ]
     },
     "metadata": {},
     "output_type": "display_data"
    },
    {
     "name": "stdout",
     "output_type": "stream",
     "text": [
      "г. Воронеж, Бульвар победы, 13\n",
      "──────────                    \n"
     ]
    },
    {
     "data": {
      "text/plain": [
       "Match(\n",
       "    start=0,\n",
       "    stop=10,\n",
       "    fact=Addr(\n",
       "        parts=[AddrPart(\n",
       "             value='Воронеж',\n",
       "             type='город'\n",
       "         )]\n",
       "    )\n",
       ")"
      ]
     },
     "metadata": {},
     "output_type": "display_data"
    },
    {
     "name": "stdout",
     "output_type": "stream",
     "text": [
      "г. Белгород, Ул. Будённого, д. 14\n",
      "─────────────────────────────────\n"
     ]
    },
    {
     "data": {
      "text/plain": [
       "Match(\n",
       "    start=0,\n",
       "    stop=33,\n",
       "    fact=Addr(\n",
       "        parts=[AddrPart(\n",
       "             value='Белгород',\n",
       "             type='город'\n",
       "         ),\n",
       "         AddrPart(\n",
       "             value='Будённого',\n",
       "             type='улица'\n",
       "         ),\n",
       "         AddrPart(\n",
       "             value='14',\n",
       "             type='дом'\n",
       "         )]\n",
       "    )\n",
       ")"
      ]
     },
     "metadata": {},
     "output_type": "display_data"
    },
    {
     "name": "stdout",
     "output_type": "stream",
     "text": [
      "г. Симферополь, ул. Оленчука, 52\n",
      "────────────────────────────    \n"
     ]
    },
    {
     "data": {
      "text/plain": [
       "Match(\n",
       "    start=0,\n",
       "    stop=28,\n",
       "    fact=Addr(\n",
       "        parts=[AddrPart(\n",
       "             value='Симферополь',\n",
       "             type='город'\n",
       "         ),\n",
       "         AddrPart(\n",
       "             value='Оленчука',\n",
       "             type='улица'\n",
       "         )]\n",
       "    )\n",
       ")"
      ]
     },
     "metadata": {},
     "output_type": "display_data"
    },
    {
     "name": "stdout",
     "output_type": "stream",
     "text": [
      "665000, Россия, Иркутская обл., г. Тайшет, ул. Локомотивная 7-2н.\n",
      "───────────────────────────────────────────────────────────      \n"
     ]
    },
    {
     "data": {
      "text/plain": [
       "Match(\n",
       "    start=0,\n",
       "    stop=59,\n",
       "    fact=Addr(\n",
       "        parts=[AddrPart(\n",
       "             value='665000',\n",
       "             type='индекс'\n",
       "         ),\n",
       "         AddrPart(\n",
       "             value='Россия',\n",
       "             type='страна'\n",
       "         ),\n",
       "         AddrPart(\n",
       "             value='Иркутская',\n",
       "             type='область'\n",
       "         ),\n",
       "         AddrPart(\n",
       "             value='Тайшет',\n",
       "             type='город'\n",
       "         ),\n",
       "         AddrPart(\n",
       "             value='Локомотивная',\n",
       "             type='улица'\n",
       "         )]\n",
       "    )\n",
       ")"
      ]
     },
     "metadata": {},
     "output_type": "display_data"
    },
    {
     "name": "stdout",
     "output_type": "stream",
     "text": [
      "г. Тольятти, ул. Мира, д.74 | Операционный зал и\n",
      "───────────────────────────                     \n"
     ]
    },
    {
     "data": {
      "text/plain": [
       "Match(\n",
       "    start=0,\n",
       "    stop=27,\n",
       "    fact=Addr(\n",
       "        parts=[AddrPart(\n",
       "             value='Тольятти',\n",
       "             type='город'\n",
       "         ),\n",
       "         AddrPart(\n",
       "             value='Мира',\n",
       "             type='улица'\n",
       "         ),\n",
       "         AddrPart(\n",
       "             value='74',\n",
       "             type='дом'\n",
       "         )]\n",
       "    )\n",
       ")"
      ]
     },
     "metadata": {},
     "output_type": "display_data"
    },
    {
     "name": "stdout",
     "output_type": "stream",
     "text": [
      "г.Севастополь,ул.Гоголя 21\n",
      "───────────────────────   \n"
     ]
    },
    {
     "data": {
      "text/plain": [
       "Match(\n",
       "    start=0,\n",
       "    stop=23,\n",
       "    fact=Addr(\n",
       "        parts=[AddrPart(\n",
       "             value='Севастополь',\n",
       "             type='город'\n",
       "         ),\n",
       "         AddrPart(\n",
       "             value='Гоголя',\n",
       "             type='улица'\n",
       "         )]\n",
       "    )\n",
       ")"
      ]
     },
     "metadata": {},
     "output_type": "display_data"
    },
    {
     "name": "stdout",
     "output_type": "stream",
     "text": [
      "191124, г. Санкт-Петербург, Смольный пр. д.11\n",
      "─────────────────────────────────────────────\n"
     ]
    },
    {
     "data": {
      "text/plain": [
       "Match(\n",
       "    start=0,\n",
       "    stop=45,\n",
       "    fact=Addr(\n",
       "        parts=[AddrPart(\n",
       "             value='191124',\n",
       "             type='индекс'\n",
       "         ),\n",
       "         AddrPart(\n",
       "             value='Санкт-Петербург',\n",
       "             type='город'\n",
       "         ),\n",
       "         AddrPart(\n",
       "             value='Смольный',\n",
       "             type='проспект'\n",
       "         ),\n",
       "         AddrPart(\n",
       "             value='11',\n",
       "             type='дом'\n",
       "         )]\n",
       "    )\n",
       ")"
      ]
     },
     "metadata": {},
     "output_type": "display_data"
    },
    {
     "name": "stdout",
     "output_type": "stream",
     "text": [
      "620137, г. Екатеринбург, ул. Студенческая, 1/18 офис 314\n",
      "────────────────────────────────────────────────────────\n"
     ]
    },
    {
     "data": {
      "text/plain": [
       "Match(\n",
       "    start=0,\n",
       "    stop=56,\n",
       "    fact=Addr(\n",
       "        parts=[AddrPart(\n",
       "             value='620137',\n",
       "             type='индекс'\n",
       "         ),\n",
       "         AddrPart(\n",
       "             value='Екатеринбург',\n",
       "             type='город'\n",
       "         ),\n",
       "         AddrPart(\n",
       "             value='Студенческая',\n",
       "             type='улица'\n",
       "         ),\n",
       "         AddrPart(\n",
       "             value='314',\n",
       "             type='офис'\n",
       "         )]\n",
       "    )\n",
       ")"
      ]
     },
     "metadata": {},
     "output_type": "display_data"
    },
    {
     "name": "stdout",
     "output_type": "stream",
     "text": [
      "Санкт-Петербург, ул. Тельмана, д. 41\n",
      "────────────────────────────────────\n"
     ]
    },
    {
     "data": {
      "text/plain": [
       "Match(\n",
       "    start=0,\n",
       "    stop=36,\n",
       "    fact=Addr(\n",
       "        parts=[AddrPart(\n",
       "             value='Санкт-Петербург',\n",
       "             type=None\n",
       "         ),\n",
       "         AddrPart(\n",
       "             value='Тельмана',\n",
       "             type='улица'\n",
       "         ),\n",
       "         AddrPart(\n",
       "             value='41',\n",
       "             type='дом'\n",
       "         )]\n",
       "    )\n",
       ")"
      ]
     },
     "metadata": {},
     "output_type": "display_data"
    },
    {
     "name": "stdout",
     "output_type": "stream",
     "text": [
      "Адрес: г. Калининград, ул. Земельная, д. 6\n",
      "       ───────────────────────────────────\n"
     ]
    },
    {
     "data": {
      "text/plain": [
       "Match(\n",
       "    start=7,\n",
       "    stop=42,\n",
       "    fact=Addr(\n",
       "        parts=[AddrPart(\n",
       "             value='Калининград',\n",
       "             type='город'\n",
       "         ),\n",
       "         AddrPart(\n",
       "             value='Земельная',\n",
       "             type='улица'\n",
       "         ),\n",
       "         AddrPart(\n",
       "             value='6',\n",
       "             type='дом'\n",
       "         )]\n",
       "    )\n",
       ")"
      ]
     },
     "metadata": {},
     "output_type": "display_data"
    },
    {
     "name": "stdout",
     "output_type": "stream",
     "text": [
      "Ул. Уфимская, д. 28\n",
      "───────────────────\n"
     ]
    },
    {
     "data": {
      "text/plain": [
       "Match(\n",
       "    start=0,\n",
       "    stop=19,\n",
       "    fact=Addr(\n",
       "        parts=[AddrPart(\n",
       "             value='Уфимская',\n",
       "             type='улица'\n",
       "         ),\n",
       "         AddrPart(\n",
       "             value='28',\n",
       "             type='дом'\n",
       "         )]\n",
       "    )\n",
       ")"
      ]
     },
     "metadata": {},
     "output_type": "display_data"
    },
    {
     "name": "stdout",
     "output_type": "stream",
     "text": [
      "ул. 2-ой Рощинский проезд, дом 8, стр.2, оф 210\n",
      "───────────────────────────────────────────────\n"
     ]
    },
    {
     "data": {
      "text/plain": [
       "Match(\n",
       "    start=0,\n",
       "    stop=47,\n",
       "    fact=Addr(\n",
       "        parts=[AddrPart(\n",
       "             value='2-ой Рощинский проезд',\n",
       "             type='улица'\n",
       "         ),\n",
       "         AddrPart(\n",
       "             value='8',\n",
       "             type='дом'\n",
       "         ),\n",
       "         AddrPart(\n",
       "             value=None,\n",
       "             type='строение'\n",
       "         ),\n",
       "         AddrPart(\n",
       "             value='210',\n",
       "             type='офис'\n",
       "         )]\n",
       "    )\n",
       ")"
      ]
     },
     "metadata": {},
     "output_type": "display_data"
    },
    {
     "name": "stdout",
     "output_type": "stream",
     "text": [
      "г. Казань, ул. Мавлютова, д. 2\n",
      "──────────────────────────────\n"
     ]
    },
    {
     "data": {
      "text/plain": [
       "Match(\n",
       "    start=0,\n",
       "    stop=30,\n",
       "    fact=Addr(\n",
       "        parts=[AddrPart(\n",
       "             value='Казань',\n",
       "             type='город'\n",
       "         ),\n",
       "         AddrPart(\n",
       "             value='Мавлютова',\n",
       "             type='улица'\n",
       "         ),\n",
       "         AddrPart(\n",
       "             value='2',\n",
       "             type='дом'\n",
       "         )]\n",
       "    )\n",
       ")"
      ]
     },
     "metadata": {},
     "output_type": "display_data"
    },
    {
     "name": "stdout",
     "output_type": "stream",
     "text": [
      "Москва, Кржижановского ул., д.25\n",
      "────────────────────────────────\n"
     ]
    },
    {
     "data": {
      "text/plain": [
       "Match(\n",
       "    start=0,\n",
       "    stop=32,\n",
       "    fact=Addr(\n",
       "        parts=[AddrPart(\n",
       "             value='Москва',\n",
       "             type=None\n",
       "         ),\n",
       "         AddrPart(\n",
       "             value='Кржижановского',\n",
       "             type='улица'\n",
       "         ),\n",
       "         AddrPart(\n",
       "             value='25',\n",
       "             type='дом'\n",
       "         )]\n",
       "    )\n",
       ")"
      ]
     },
     "metadata": {},
     "output_type": "display_data"
    },
    {
     "name": "stdout",
     "output_type": "stream",
     "text": [
      "117105, Москва, Варшавское ш., д.1, стр.1, комн. 43\"\n",
      "─────────────────────────────────────────           \n"
     ]
    },
    {
     "data": {
      "text/plain": [
       "Match(\n",
       "    start=0,\n",
       "    stop=41,\n",
       "    fact=Addr(\n",
       "        parts=[AddrPart(\n",
       "             value='117105',\n",
       "             type='индекс'\n",
       "         ),\n",
       "         AddrPart(\n",
       "             value='Москва',\n",
       "             type=None\n",
       "         ),\n",
       "         AddrPart(\n",
       "             value='Варшавское',\n",
       "             type='шоссе'\n",
       "         ),\n",
       "         AddrPart(\n",
       "             value='1',\n",
       "             type='дом'\n",
       "         ),\n",
       "         AddrPart(\n",
       "             value=None,\n",
       "             type='строение'\n",
       "         )]\n",
       "    )\n",
       ")"
      ]
     },
     "metadata": {},
     "output_type": "display_data"
    },
    {
     "name": "stdout",
     "output_type": "stream",
     "text": [
      "КГО №35 мкр., д.37\n",
      "              ────\n"
     ]
    },
    {
     "data": {
      "text/plain": [
       "Match(\n",
       "    start=14,\n",
       "    stop=18,\n",
       "    fact=Addr(\n",
       "        parts=[AddrPart(\n",
       "             value='37',\n",
       "             type='дом'\n",
       "         )]\n",
       "    )\n",
       ")"
      ]
     },
     "metadata": {},
     "output_type": "display_data"
    },
    {
     "name": "stdout",
     "output_type": "stream",
     "text": [
      "Новый Арбат ул., д. 7\n",
      "─────────────────────\n"
     ]
    },
    {
     "data": {
      "text/plain": [
       "Match(\n",
       "    start=0,\n",
       "    stop=21,\n",
       "    fact=Addr(\n",
       "        parts=[AddrPart(\n",
       "             value='Новый Арбат',\n",
       "             type='улица'\n",
       "         ),\n",
       "         AddrPart(\n",
       "             value='7',\n",
       "             type='дом'\n",
       "         )]\n",
       "    )\n",
       ")"
      ]
     },
     "metadata": {},
     "output_type": "display_data"
    },
    {
     "name": "stdout",
     "output_type": "stream",
     "text": [
      "г. Орск | ООО \"\"Гранд-Сервис\"\" | 3537 | 25-00-70 | пр. Ленина, д. 11\n",
      "────────────────────────────────────────────────────────────────────\n"
     ]
    },
    {
     "data": {
      "text/plain": [
       "Match(\n",
       "    start=0,\n",
       "    stop=68,\n",
       "    fact=Addr(\n",
       "        parts=[AddrPart(\n",
       "             value='Орск',\n",
       "             type='город'\n",
       "         ),\n",
       "         AddrPart(\n",
       "             value='Ленина',\n",
       "             type='проспект'\n",
       "         ),\n",
       "         AddrPart(\n",
       "             value='11',\n",
       "             type='дом'\n",
       "         )]\n",
       "    )\n",
       ")"
      ]
     },
     "metadata": {},
     "output_type": "display_data"
    },
    {
     "name": "stdout",
     "output_type": "stream",
     "text": [
      "AZ 1072, г. Баку, ул. Короглу Рахимова, д. 13а\n",
      "         ─────────────────────────────────────\n"
     ]
    },
    {
     "data": {
      "text/plain": [
       "Match(\n",
       "    start=9,\n",
       "    stop=46,\n",
       "    fact=Addr(\n",
       "        parts=[AddrPart(\n",
       "             value='Баку',\n",
       "             type='город'\n",
       "         ),\n",
       "         AddrPart(\n",
       "             value='Короглу Рахимова',\n",
       "             type='улица'\n",
       "         ),\n",
       "         AddrPart(\n",
       "             value='13а',\n",
       "             type='дом'\n",
       "         )]\n",
       "    )\n",
       ")"
      ]
     },
     "metadata": {},
     "output_type": "display_data"
    },
    {
     "name": "stdout",
     "output_type": "stream",
     "text": [
      "г. Челябинск, ул. Енисейская, 40, Ленинский район показать на карте\n",
      "─────────────────────────────────────────────────                  \n"
     ]
    },
    {
     "data": {
      "text/plain": [
       "Match(\n",
       "    start=0,\n",
       "    stop=49,\n",
       "    fact=Addr(\n",
       "        parts=[AddrPart(\n",
       "             value='Челябинск',\n",
       "             type='город'\n",
       "         ),\n",
       "         AddrPart(\n",
       "             value='Енисейская',\n",
       "             type='улица'\n",
       "         ),\n",
       "         AddrPart(\n",
       "             value='Ленинский',\n",
       "             type='район'\n",
       "         )]\n",
       "    )\n",
       ")"
      ]
     },
     "metadata": {},
     "output_type": "display_data"
    },
    {
     "name": "stdout",
     "output_type": "stream",
     "text": [
      "Адрес: 453500, г.Белорецк, ул. Советская, 63\n",
      "       ─────────────────────────────────    \n"
     ]
    },
    {
     "data": {
      "text/plain": [
       "Match(\n",
       "    start=7,\n",
       "    stop=40,\n",
       "    fact=Addr(\n",
       "        parts=[AddrPart(\n",
       "             value='453500',\n",
       "             type='индекс'\n",
       "         ),\n",
       "         AddrPart(\n",
       "             value='Белорецк',\n",
       "             type='город'\n",
       "         ),\n",
       "         AddrPart(\n",
       "             value='Советская',\n",
       "             type='улица'\n",
       "         )]\n",
       "    )\n",
       ")"
      ]
     },
     "metadata": {},
     "output_type": "display_data"
    },
    {
     "name": "stdout",
     "output_type": "stream",
     "text": [
      "ул. Ангарская, 28, павильон 402\n",
      "─────────────                  \n"
     ]
    },
    {
     "data": {
      "text/plain": [
       "Match(\n",
       "    start=0,\n",
       "    stop=13,\n",
       "    fact=Addr(\n",
       "        parts=[AddrPart(\n",
       "             value='Ангарская',\n",
       "             type='улица'\n",
       "         )]\n",
       "    )\n",
       ")"
      ]
     },
     "metadata": {},
     "output_type": "display_data"
    },
    {
     "name": "stdout",
     "output_type": "stream",
     "text": [
      "614066, г. Пермь, Шоссе космонавтов, дом 111, корпус 27\n",
      "───────────────────────────────────────────────────────\n"
     ]
    },
    {
     "data": {
      "text/plain": [
       "Match(\n",
       "    start=0,\n",
       "    stop=55,\n",
       "    fact=Addr(\n",
       "        parts=[AddrPart(\n",
       "             value='614066',\n",
       "             type='индекс'\n",
       "         ),\n",
       "         AddrPart(\n",
       "             value='Пермь',\n",
       "             type='город'\n",
       "         ),\n",
       "         AddrPart(\n",
       "             value='111',\n",
       "             type='дом'\n",
       "         ),\n",
       "         AddrPart(\n",
       "             value='27',\n",
       "             type='корпус'\n",
       "         )]\n",
       "    )\n",
       ")"
      ]
     },
     "metadata": {},
     "output_type": "display_data"
    },
    {
     "name": "stdout",
     "output_type": "stream",
     "text": [
      "Воронежская область, Лиски, улица Коминтерна, 61\n",
      "────────────────────────────────────────────    \n"
     ]
    },
    {
     "data": {
      "text/plain": [
       "Match(\n",
       "    start=0,\n",
       "    stop=44,\n",
       "    fact=Addr(\n",
       "        parts=[AddrPart(\n",
       "             value='Воронежская',\n",
       "             type='область'\n",
       "         ),\n",
       "         AddrPart(\n",
       "             value='Коминтерна',\n",
       "             type='улица'\n",
       "         )]\n",
       "    )\n",
       ")"
      ]
     },
     "metadata": {},
     "output_type": "display_data"
    },
    {
     "name": "stdout",
     "output_type": "stream",
     "text": [
      "1141 | 2 | 80 / 43 / 10 | 13 / 13 | Электрозаводская | Москва, Попов \n",
      "                                                       ──────────────\n",
      "проезд, д.4 | 80000 | с 30.08.2017\n",
      "───────────                       \n"
     ]
    },
    {
     "data": {
      "text/plain": [
       "Match(\n",
       "    start=55,\n",
       "    stop=80,\n",
       "    fact=Addr(\n",
       "        parts=[AddrPart(\n",
       "             value='Москва',\n",
       "             type=None\n",
       "         ),\n",
       "         AddrPart(\n",
       "             value='Попов',\n",
       "             type='проезд'\n",
       "         ),\n",
       "         AddrPart(\n",
       "             value='4',\n",
       "             type='дом'\n",
       "         )]\n",
       "    )\n",
       ")"
      ]
     },
     "metadata": {},
     "output_type": "display_data"
    },
    {
     "name": "stdout",
     "output_type": "stream",
     "text": [
      "Юр. адрес: 115201, г.Москва, 1-й Котляковский пер., д.3 пом.8, комн.1\n",
      "           ────────────────────────────────────────────              \n"
     ]
    },
    {
     "data": {
      "text/plain": [
       "Match(\n",
       "    start=11,\n",
       "    stop=55,\n",
       "    fact=Addr(\n",
       "        parts=[AddrPart(\n",
       "             value='115201',\n",
       "             type='индекс'\n",
       "         ),\n",
       "         AddrPart(\n",
       "             value='Москва',\n",
       "             type='город'\n",
       "         ),\n",
       "         AddrPart(\n",
       "             value='1-й Котляковский',\n",
       "             type='переулок'\n",
       "         ),\n",
       "         AddrPart(\n",
       "             value='3',\n",
       "             type='дом'\n",
       "         )]\n",
       "    )\n",
       ")"
      ]
     },
     "metadata": {},
     "output_type": "display_data"
    },
    {
     "name": "stdout",
     "output_type": "stream",
     "text": [
      "630501, НСО, рп. Краснообск, 6-ой мкр., д. 4\n",
      "────────────────────────────────────────────\n"
     ]
    },
    {
     "data": {
      "text/plain": [
       "Match(\n",
       "    start=0,\n",
       "    stop=44,\n",
       "    fact=Addr(\n",
       "        parts=[AddrPart(\n",
       "             value='630501',\n",
       "             type='индекс'\n",
       "         ),\n",
       "         AddrPart(\n",
       "             value='4',\n",
       "             type='дом'\n",
       "         )]\n",
       "    )\n",
       ")"
      ]
     },
     "metadata": {},
     "output_type": "display_data"
    },
    {
     "name": "stdout",
     "output_type": "stream",
     "text": [
      "г.Пермь,Ул. Героев Хасана 46\n",
      "─────────────────────────   \n"
     ]
    },
    {
     "data": {
      "text/plain": [
       "Match(\n",
       "    start=0,\n",
       "    stop=25,\n",
       "    fact=Addr(\n",
       "        parts=[AddrPart(\n",
       "             value='Пермь',\n",
       "             type='город'\n",
       "         ),\n",
       "         AddrPart(\n",
       "             value='Героев Хасана',\n",
       "             type='улица'\n",
       "         )]\n",
       "    )\n",
       ")"
      ]
     },
     "metadata": {},
     "output_type": "display_data"
    },
    {
     "name": "stdout",
     "output_type": "stream",
     "text": [
      "г. Москва, ул. Дорогобужская, д.14\n",
      "──────────────────────────────────\n"
     ]
    },
    {
     "data": {
      "text/plain": [
       "Match(\n",
       "    start=0,\n",
       "    stop=34,\n",
       "    fact=Addr(\n",
       "        parts=[AddrPart(\n",
       "             value='Москва',\n",
       "             type='город'\n",
       "         ),\n",
       "         AddrPart(\n",
       "             value='Дорогобужская',\n",
       "             type='улица'\n",
       "         ),\n",
       "         AddrPart(\n",
       "             value='14',\n",
       "             type='дом'\n",
       "         )]\n",
       "    )\n",
       ")"
      ]
     },
     "metadata": {},
     "output_type": "display_data"
    },
    {
     "name": "stdout",
     "output_type": "stream",
     "text": [
      "\"620041, Россия г. Екатеринбург, ул. Основинская 6 / ул. Маяковского \n",
      " ─────────────────────────────────────────────────────────────────── \n",
      "25 \"\"а\"\", 12\"\n"
     ]
    },
    {
     "data": {
      "text/plain": [
       "Match(\n",
       "    start=1,\n",
       "    stop=68,\n",
       "    fact=Addr(\n",
       "        parts=[AddrPart(\n",
       "             value='620041',\n",
       "             type='индекс'\n",
       "         ),\n",
       "         AddrPart(\n",
       "             value='Россия',\n",
       "             type='страна'\n",
       "         ),\n",
       "         AddrPart(\n",
       "             value='Екатеринбург',\n",
       "             type='город'\n",
       "         ),\n",
       "         AddrPart(\n",
       "             value='Основинская',\n",
       "             type='улица'\n",
       "         ),\n",
       "         AddrPart(\n",
       "             value='Маяковского',\n",
       "             type='улица'\n",
       "         )]\n",
       "    )\n",
       ")"
      ]
     },
     "metadata": {},
     "output_type": "display_data"
    },
    {
     "name": "stdout",
     "output_type": "stream",
     "text": [
      "109012, г. Москва Новая площадь, 14\n",
      "───────────────────────────────    \n"
     ]
    },
    {
     "data": {
      "text/plain": [
       "Match(\n",
       "    start=0,\n",
       "    stop=31,\n",
       "    fact=Addr(\n",
       "        parts=[AddrPart(\n",
       "             value='109012',\n",
       "             type='индекс'\n",
       "         ),\n",
       "         AddrPart(\n",
       "             value='Москва',\n",
       "             type='город'\n",
       "         ),\n",
       "         AddrPart(\n",
       "             value='Новая',\n",
       "             type='площадь'\n",
       "         )]\n",
       "    )\n",
       ")"
      ]
     },
     "metadata": {},
     "output_type": "display_data"
    },
    {
     "name": "stdout",
     "output_type": "stream",
     "text": [
      "улица Кирова, дом 5, цокольный этаж\n",
      "───────────────────                \n"
     ]
    },
    {
     "data": {
      "text/plain": [
       "Match(\n",
       "    start=0,\n",
       "    stop=19,\n",
       "    fact=Addr(\n",
       "        parts=[AddrPart(\n",
       "             value='Кирова',\n",
       "             type='улица'\n",
       "         ),\n",
       "         AddrPart(\n",
       "             value='5',\n",
       "             type='дом'\n",
       "         )]\n",
       "    )\n",
       ")"
      ]
     },
     "metadata": {},
     "output_type": "display_data"
    },
    {
     "name": "stdout",
     "output_type": "stream",
     "text": [
      "620137, г.Екатеринбург, ул. Бархотская, д.1 литер \"М\"\n",
      "───────────────────────────────────────────          \n"
     ]
    },
    {
     "data": {
      "text/plain": [
       "Match(\n",
       "    start=0,\n",
       "    stop=43,\n",
       "    fact=Addr(\n",
       "        parts=[AddrPart(\n",
       "             value='620137',\n",
       "             type='индекс'\n",
       "         ),\n",
       "         AddrPart(\n",
       "             value='Екатеринбург',\n",
       "             type='город'\n",
       "         ),\n",
       "         AddrPart(\n",
       "             value='Бархотская',\n",
       "             type='улица'\n",
       "         ),\n",
       "         AddrPart(\n",
       "             value='1',\n",
       "             type='дом'\n",
       "         )]\n",
       "    )\n",
       ")"
      ]
     },
     "metadata": {},
     "output_type": "display_data"
    },
    {
     "name": "stdout",
     "output_type": "stream",
     "text": [
      "Ул. Советская, дом 30, оф. 1203, индекс 350063.\n",
      "────────────────────────────────────────────── \n"
     ]
    },
    {
     "data": {
      "text/plain": [
       "Match(\n",
       "    start=0,\n",
       "    stop=46,\n",
       "    fact=Addr(\n",
       "        parts=[AddrPart(\n",
       "             value='Советская',\n",
       "             type='улица'\n",
       "         ),\n",
       "         AddrPart(\n",
       "             value='30',\n",
       "             type='дом'\n",
       "         ),\n",
       "         AddrPart(\n",
       "             value='1203',\n",
       "             type='офис'\n",
       "         ),\n",
       "         AddrPart(\n",
       "             value='350063',\n",
       "             type='индекс'\n",
       "         )]\n",
       "    )\n",
       ")"
      ]
     },
     "metadata": {},
     "output_type": "display_data"
    },
    {
     "name": "stdout",
     "output_type": "stream",
     "text": [
      "адрес: 142500, Московская область, Павловский Посад, ул. Кирова, 77   \n",
      "       ────────────────────────────────────────────────────────       \n",
      "Схема проезда\n"
     ]
    },
    {
     "data": {
      "text/plain": [
       "Match(\n",
       "    start=7,\n",
       "    stop=63,\n",
       "    fact=Addr(\n",
       "        parts=[AddrPart(\n",
       "             value='142500',\n",
       "             type='индекс'\n",
       "         ),\n",
       "         AddrPart(\n",
       "             value='Московская',\n",
       "             type='область'\n",
       "         ),\n",
       "         AddrPart(\n",
       "             value='Кирова',\n",
       "             type='улица'\n",
       "         )]\n",
       "    )\n",
       ")"
      ]
     },
     "metadata": {},
     "output_type": "display_data"
    },
    {
     "name": "stdout",
     "output_type": "stream",
     "text": [
      "ул. Салтыкова-Щедрина, д.125.\n",
      "──────────────────────────── \n"
     ]
    },
    {
     "data": {
      "text/plain": [
       "Match(\n",
       "    start=0,\n",
       "    stop=28,\n",
       "    fact=Addr(\n",
       "        parts=[AddrPart(\n",
       "             value='Салтыкова-Щедрина',\n",
       "             type='улица'\n",
       "         ),\n",
       "         AddrPart(\n",
       "             value='125',\n",
       "             type='дом'\n",
       "         )]\n",
       "    )\n",
       ")"
      ]
     },
     "metadata": {},
     "output_type": "display_data"
    },
    {
     "name": "stdout",
     "output_type": "stream",
     "text": [
      "Москва, пер. Большой Строченовский, д. 7\n",
      "────────────────────────────────────────\n"
     ]
    },
    {
     "data": {
      "text/plain": [
       "Match(\n",
       "    start=0,\n",
       "    stop=40,\n",
       "    fact=Addr(\n",
       "        parts=[AddrPart(\n",
       "             value='Москва',\n",
       "             type=None\n",
       "         ),\n",
       "         AddrPart(\n",
       "             value='Большой Строченовский',\n",
       "             type='переулок'\n",
       "         ),\n",
       "         AddrPart(\n",
       "             value='7',\n",
       "             type='дом'\n",
       "         )]\n",
       "    )\n",
       ")"
      ]
     },
     "metadata": {},
     "output_type": "display_data"
    },
    {
     "name": "stdout",
     "output_type": "stream",
     "text": [
      "ул. А. Матросова, д. 1, к. 2/6, литера А, 7 этаж, 702\n",
      "──────────────────────                               \n"
     ]
    },
    {
     "data": {
      "text/plain": [
       "Match(\n",
       "    start=0,\n",
       "    stop=22,\n",
       "    fact=Addr(\n",
       "        parts=[AddrPart(\n",
       "             value='А. Матросова',\n",
       "             type='улица'\n",
       "         ),\n",
       "         AddrPart(\n",
       "             value='1',\n",
       "             type='дом'\n",
       "         )]\n",
       "    )\n",
       ")"
      ]
     },
     "metadata": {},
     "output_type": "display_data"
    },
    {
     "name": "stdout",
     "output_type": "stream",
     "text": [
      "Москва Ленинградский проспект, дом 74, корп 2. м\n",
      "─────────────────────────────────────────────   \n"
     ]
    },
    {
     "data": {
      "text/plain": [
       "Match(\n",
       "    start=0,\n",
       "    stop=45,\n",
       "    fact=Addr(\n",
       "        parts=[AddrPart(\n",
       "             value='Москва Ленинградский',\n",
       "             type='проспект'\n",
       "         ),\n",
       "         AddrPart(\n",
       "             value='74',\n",
       "             type='дом'\n",
       "         ),\n",
       "         AddrPart(\n",
       "             value='2',\n",
       "             type='корпус'\n",
       "         )]\n",
       "    )\n",
       ")"
      ]
     },
     "metadata": {},
     "output_type": "display_data"
    },
    {
     "name": "stdout",
     "output_type": "stream",
     "text": [
      "353900, РФ, Краснодарский край, г.Новороссийск, ул.Мира, 12\n",
      "───────────────────────────────────────────────────────    \n"
     ]
    },
    {
     "data": {
      "text/plain": [
       "Match(\n",
       "    start=0,\n",
       "    stop=55,\n",
       "    fact=Addr(\n",
       "        parts=[AddrPart(\n",
       "             value='353900',\n",
       "             type='индекс'\n",
       "         ),\n",
       "         AddrPart(\n",
       "             value='РФ',\n",
       "             type='страна'\n",
       "         ),\n",
       "         AddrPart(\n",
       "             value='Краснодарский',\n",
       "             type='край'\n",
       "         ),\n",
       "         AddrPart(\n",
       "             value='Новороссийск',\n",
       "             type='город'\n",
       "         ),\n",
       "         AddrPart(\n",
       "             value='Мира',\n",
       "             type='улица'\n",
       "         )]\n",
       "    )\n",
       ")"
      ]
     },
     "metadata": {},
     "output_type": "display_data"
    },
    {
     "name": "stdout",
     "output_type": "stream",
     "text": [
      "Адрес: 603116, г. Нижний Новгород, ул.Тонкинская, дом 7А, офис 7.\n",
      "       ───────────────────────────────────────────────────────── \n"
     ]
    },
    {
     "data": {
      "text/plain": [
       "Match(\n",
       "    start=7,\n",
       "    stop=64,\n",
       "    fact=Addr(\n",
       "        parts=[AddrPart(\n",
       "             value='603116',\n",
       "             type='индекс'\n",
       "         ),\n",
       "         AddrPart(\n",
       "             value='Нижний Новгород',\n",
       "             type='город'\n",
       "         ),\n",
       "         AddrPart(\n",
       "             value='Тонкинская',\n",
       "             type='улица'\n",
       "         ),\n",
       "         AddrPart(\n",
       "             value='7А',\n",
       "             type='дом'\n",
       "         ),\n",
       "         AddrPart(\n",
       "             value='7',\n",
       "             type='офис'\n",
       "         )]\n",
       "    )\n",
       ")"
      ]
     },
     "metadata": {},
     "output_type": "display_data"
    },
    {
     "name": "stdout",
     "output_type": "stream",
     "text": [
      "Адрес: г. Краснодар, ул. Архитектора Ишунина, 8\n",
      "       ─────────────────────────────────────   \n"
     ]
    },
    {
     "data": {
      "text/plain": [
       "Match(\n",
       "    start=7,\n",
       "    stop=44,\n",
       "    fact=Addr(\n",
       "        parts=[AddrPart(\n",
       "             value='Краснодар',\n",
       "             type='город'\n",
       "         ),\n",
       "         AddrPart(\n",
       "             value='Архитектора Ишунина',\n",
       "             type='улица'\n",
       "         )]\n",
       "    )\n",
       ")"
      ]
     },
     "metadata": {},
     "output_type": "display_data"
    },
    {
     "name": "stdout",
     "output_type": "stream",
     "text": [
      "г.Челябинск, ул.Российская, 21В\n",
      "──────────────────────────     \n"
     ]
    },
    {
     "data": {
      "text/plain": [
       "Match(\n",
       "    start=0,\n",
       "    stop=26,\n",
       "    fact=Addr(\n",
       "        parts=[AddrPart(\n",
       "             value='Челябинск',\n",
       "             type='город'\n",
       "         ),\n",
       "         AddrPart(\n",
       "             value='Российская',\n",
       "             type='улица'\n",
       "         )]\n",
       "    )\n",
       ")"
      ]
     },
     "metadata": {},
     "output_type": "display_data"
    },
    {
     "name": "stdout",
     "output_type": "stream",
     "text": [
      "Адрес: 690091, г. Владивосток, ул. Набережная, 3\n",
      "       ──────────────────────────────────────   \n"
     ]
    },
    {
     "data": {
      "text/plain": [
       "Match(\n",
       "    start=7,\n",
       "    stop=45,\n",
       "    fact=Addr(\n",
       "        parts=[AddrPart(\n",
       "             value='690091',\n",
       "             type='индекс'\n",
       "         ),\n",
       "         AddrPart(\n",
       "             value='Владивосток',\n",
       "             type='город'\n",
       "         ),\n",
       "         AddrPart(\n",
       "             value='Набережная',\n",
       "             type='улица'\n",
       "         )]\n",
       "    )\n",
       ")"
      ]
     },
     "metadata": {},
     "output_type": "display_data"
    },
    {
     "name": "stdout",
     "output_type": "stream",
     "text": [
      "г.Ульяновск, ул.Спасская д.6\n",
      "────────────────────────────\n"
     ]
    },
    {
     "data": {
      "text/plain": [
       "Match(\n",
       "    start=0,\n",
       "    stop=28,\n",
       "    fact=Addr(\n",
       "        parts=[AddrPart(\n",
       "             value='Ульяновск',\n",
       "             type='город'\n",
       "         ),\n",
       "         AddrPart(\n",
       "             value='Спасская',\n",
       "             type='улица'\n",
       "         ),\n",
       "         AddrPart(\n",
       "             value='6',\n",
       "             type='дом'\n",
       "         )]\n",
       "    )\n",
       ")"
      ]
     },
     "metadata": {},
     "output_type": "display_data"
    },
    {
     "name": "stdout",
     "output_type": "stream",
     "text": [
      "450058, Россия, Республика Башкортостан, г. Уфа, Проспект Октября, дом\n",
      "──────────────────────────────────────────────────────────────────────\n",
      " 39, корпус 1, офис 6\n",
      "─────────────────────\n"
     ]
    },
    {
     "data": {
      "text/plain": [
       "Match(\n",
       "    start=0,\n",
       "    stop=91,\n",
       "    fact=Addr(\n",
       "        parts=[AddrPart(\n",
       "             value='450058',\n",
       "             type='индекс'\n",
       "         ),\n",
       "         AddrPart(\n",
       "             value='Россия',\n",
       "             type='страна'\n",
       "         ),\n",
       "         AddrPart(\n",
       "             value='Башкортостан',\n",
       "             type='республика'\n",
       "         ),\n",
       "         AddrPart(\n",
       "             value='Уфа',\n",
       "             type='город'\n",
       "         ),\n",
       "         AddrPart(\n",
       "             value='Октября',\n",
       "             type='проспект'\n",
       "         ),\n",
       "         AddrPart(\n",
       "             value='39',\n",
       "             type='дом'\n",
       "         ),\n",
       "         AddrPart(\n",
       "             value='1',\n",
       "             type='корпус'\n",
       "         ),\n",
       "         AddrPart(\n",
       "             value='6',\n",
       "             type='офис'\n",
       "         )]\n",
       "    )\n",
       ")"
      ]
     },
     "metadata": {},
     "output_type": "display_data"
    },
    {
     "name": "stdout",
     "output_type": "stream",
     "text": [
      "г. Екатеринбург, ул. Прибалтийская, 20\n",
      "──────────────────────────────────    \n"
     ]
    },
    {
     "data": {
      "text/plain": [
       "Match(\n",
       "    start=0,\n",
       "    stop=34,\n",
       "    fact=Addr(\n",
       "        parts=[AddrPart(\n",
       "             value='Екатеринбург',\n",
       "             type='город'\n",
       "         ),\n",
       "         AddrPart(\n",
       "             value='Прибалтийская',\n",
       "             type='улица'\n",
       "         )]\n",
       "    )\n",
       ")"
      ]
     },
     "metadata": {},
     "output_type": "display_data"
    },
    {
     "name": "stdout",
     "output_type": "stream",
     "text": [
      "с.Верхние Татышлы, ул. Ленина, 39Б\n",
      "─────────────────────────────     \n"
     ]
    },
    {
     "data": {
      "text/plain": [
       "Match(\n",
       "    start=0,\n",
       "    stop=29,\n",
       "    fact=Addr(\n",
       "        parts=[AddrPart(\n",
       "             value='Верхние Татышлы',\n",
       "             type='село'\n",
       "         ),\n",
       "         AddrPart(\n",
       "             value='Ленина',\n",
       "             type='улица'\n",
       "         )]\n",
       "    )\n",
       ")"
      ]
     },
     "metadata": {},
     "output_type": "display_data"
    },
    {
     "name": "stdout",
     "output_type": "stream",
     "text": [
      "г. Москва, ул. Нижняя Красносельская, дом 40/12, корпус 6, этаж 1, \n",
      "───────────────────────────────────────────────────────────────────\n",
      "офис 100, 8-905-782-7743\n",
      "────────                \n"
     ]
    },
    {
     "data": {
      "text/plain": [
       "Match(\n",
       "    start=0,\n",
       "    stop=75,\n",
       "    fact=Addr(\n",
       "        parts=[AddrPart(\n",
       "             value='Москва',\n",
       "             type='город'\n",
       "         ),\n",
       "         AddrPart(\n",
       "             value='Нижняя Красносельская',\n",
       "             type='улица'\n",
       "         ),\n",
       "         AddrPart(\n",
       "             value='40/12',\n",
       "             type='дом'\n",
       "         ),\n",
       "         AddrPart(\n",
       "             value='6',\n",
       "             type='корпус'\n",
       "         ),\n",
       "         AddrPart(\n",
       "             value='100',\n",
       "             type='офис'\n",
       "         )]\n",
       "    )\n",
       ")"
      ]
     },
     "metadata": {},
     "output_type": "display_data"
    },
    {
     "name": "stdout",
     "output_type": "stream",
     "text": [
      "Москва, метро «Шаболовская», «Тульская», Лестева ул., д.12, эт.5, \n",
      "──────────────────────────────────────────────────────────────────\n",
      "оф.503 вход в здание с ул. Хавская\n",
      "──────────────────────────────────\n"
     ]
    },
    {
     "data": {
      "text/plain": [
       "Match(\n",
       "    start=0,\n",
       "    stop=100,\n",
       "    fact=Addr(\n",
       "        parts=[AddrPart(\n",
       "             value='Москва',\n",
       "             type=None\n",
       "         ),\n",
       "         AddrPart(\n",
       "             value='Лестева',\n",
       "             type='улица'\n",
       "         ),\n",
       "         AddrPart(\n",
       "             value='12',\n",
       "             type='дом'\n",
       "         ),\n",
       "         AddrPart(\n",
       "             value='503',\n",
       "             type='офис'\n",
       "         ),\n",
       "         AddrPart(\n",
       "             value='Хавская',\n",
       "             type='улица'\n",
       "         )]\n",
       "    )\n",
       ")"
      ]
     },
     "metadata": {},
     "output_type": "display_data"
    },
    {
     "name": "stdout",
     "output_type": "stream",
     "text": [
      "Россия, Респ. Татарстан, г. Набережные Челны, Мензелинский тракт, 152\n",
      "────────────────────────────────────────────                         \n"
     ]
    },
    {
     "data": {
      "text/plain": [
       "Match(\n",
       "    start=0,\n",
       "    stop=44,\n",
       "    fact=Addr(\n",
       "        parts=[AddrPart(\n",
       "             value='Россия',\n",
       "             type='страна'\n",
       "         ),\n",
       "         AddrPart(\n",
       "             value='Татарстан',\n",
       "             type='республика'\n",
       "         ),\n",
       "         AddrPart(\n",
       "             value='Набережные Челны',\n",
       "             type='город'\n",
       "         )]\n",
       "    )\n",
       ")"
      ]
     },
     "metadata": {},
     "output_type": "display_data"
    },
    {
     "name": "stdout",
     "output_type": "stream",
     "text": [
      "Адрес:  105318, г. Москва, улица Ибрагимова, дом 31, офис 50, ПАО \n",
      "        ────────────────────────────────────────────────────      \n",
      "«Новоорская керамика»\n"
     ]
    },
    {
     "data": {
      "text/plain": [
       "Match(\n",
       "    start=8,\n",
       "    stop=60,\n",
       "    fact=Addr(\n",
       "        parts=[AddrPart(\n",
       "             value='105318',\n",
       "             type='индекс'\n",
       "         ),\n",
       "         AddrPart(\n",
       "             value='Москва',\n",
       "             type='город'\n",
       "         ),\n",
       "         AddrPart(\n",
       "             value='Ибрагимова',\n",
       "             type='улица'\n",
       "         ),\n",
       "         AddrPart(\n",
       "             value='31',\n",
       "             type='дом'\n",
       "         ),\n",
       "         AddrPart(\n",
       "             value='50',\n",
       "             type='офис'\n",
       "         )]\n",
       "    )\n",
       ")"
      ]
     },
     "metadata": {},
     "output_type": "display_data"
    },
    {
     "name": "stdout",
     "output_type": "stream",
     "text": [
      "Россия, 127422, г. Москва, Тимирязевская ул., д. 36\n",
      "───────────────────────────────────────────────────\n"
     ]
    },
    {
     "data": {
      "text/plain": [
       "Match(\n",
       "    start=0,\n",
       "    stop=51,\n",
       "    fact=Addr(\n",
       "        parts=[AddrPart(\n",
       "             value='Россия',\n",
       "             type='страна'\n",
       "         ),\n",
       "         AddrPart(\n",
       "             value='127422',\n",
       "             type='индекс'\n",
       "         ),\n",
       "         AddrPart(\n",
       "             value='Москва',\n",
       "             type='город'\n",
       "         ),\n",
       "         AddrPart(\n",
       "             value='Тимирязевская',\n",
       "             type='улица'\n",
       "         ),\n",
       "         AddrPart(\n",
       "             value='36',\n",
       "             type='дом'\n",
       "         )]\n",
       "    )\n",
       ")"
      ]
     },
     "metadata": {},
     "output_type": "display_data"
    },
    {
     "name": "stdout",
     "output_type": "stream",
     "text": [
      "г. Тольятти, ул. Спортивная 16\n",
      "───────────────────────────   \n"
     ]
    },
    {
     "data": {
      "text/plain": [
       "Match(\n",
       "    start=0,\n",
       "    stop=27,\n",
       "    fact=Addr(\n",
       "        parts=[AddrPart(\n",
       "             value='Тольятти',\n",
       "             type='город'\n",
       "         ),\n",
       "         AddrPart(\n",
       "             value='Спортивная',\n",
       "             type='улица'\n",
       "         )]\n",
       "    )\n",
       ")"
      ]
     },
     "metadata": {},
     "output_type": "display_data"
    },
    {
     "name": "stdout",
     "output_type": "stream",
     "text": [
      "ул. Музейная, д. 9\n",
      "──────────────────\n"
     ]
    },
    {
     "data": {
      "text/plain": [
       "Match(\n",
       "    start=0,\n",
       "    stop=18,\n",
       "    fact=Addr(\n",
       "        parts=[AddrPart(\n",
       "             value='Музейная',\n",
       "             type='улица'\n",
       "         ),\n",
       "         AddrPart(\n",
       "             value='9',\n",
       "             type='дом'\n",
       "         )]\n",
       "    )\n",
       ")"
      ]
     },
     "metadata": {},
     "output_type": "display_data"
    },
    {
     "name": "stdout",
     "output_type": "stream",
     "text": [
      "г. Вологда, ул. Чехова, д. 25, оф. 403\n",
      "──────────────────────────────────────\n"
     ]
    },
    {
     "data": {
      "text/plain": [
       "Match(\n",
       "    start=0,\n",
       "    stop=38,\n",
       "    fact=Addr(\n",
       "        parts=[AddrPart(\n",
       "             value='Вологда',\n",
       "             type='город'\n",
       "         ),\n",
       "         AddrPart(\n",
       "             value='Чехова',\n",
       "             type='улица'\n",
       "         ),\n",
       "         AddrPart(\n",
       "             value='25',\n",
       "             type='дом'\n",
       "         ),\n",
       "         AddrPart(\n",
       "             value='403',\n",
       "             type='офис'\n",
       "         )]\n",
       "    )\n",
       ")"
      ]
     },
     "metadata": {},
     "output_type": "display_data"
    },
    {
     "name": "stdout",
     "output_type": "stream",
     "text": [
      "Адрес: г. Белгород, пр-т Б. Хмельницкого, 213\n",
      "       ─────────────────────────────────     \n"
     ]
    },
    {
     "data": {
      "text/plain": [
       "Match(\n",
       "    start=7,\n",
       "    stop=40,\n",
       "    fact=Addr(\n",
       "        parts=[AddrPart(\n",
       "             value='Белгород',\n",
       "             type='город'\n",
       "         ),\n",
       "         AddrPart(\n",
       "             value='Б. Хмельницкого',\n",
       "             type='проспект'\n",
       "         )]\n",
       "    )\n",
       ")"
      ]
     },
     "metadata": {},
     "output_type": "display_data"
    },
    {
     "name": "stdout",
     "output_type": "stream",
     "text": [
      "\"Жилая площадь 13 кв.м\n",
      " ─────────────        \n"
     ]
    },
    {
     "data": {
      "text/plain": [
       "Match(\n",
       "    start=1,\n",
       "    stop=14,\n",
       "    fact=Addr(\n",
       "        parts=[AddrPart(\n",
       "             value='Жилая',\n",
       "             type='площадь'\n",
       "         )]\n",
       "    )\n",
       ")"
      ]
     },
     "metadata": {},
     "output_type": "display_data"
    },
    {
     "name": "stdout",
     "output_type": "stream",
     "text": [
      "Моховая, 8, стр. 1 (м. Библиотека имени Ленина)\n",
      "            ──────                             \n"
     ]
    },
    {
     "data": {
      "text/plain": [
       "Match(\n",
       "    start=12,\n",
       "    stop=18,\n",
       "    fact=Addr(\n",
       "        parts=[AddrPart(\n",
       "             value=None,\n",
       "             type='строение'\n",
       "         )]\n",
       "    )\n",
       ")"
      ]
     },
     "metadata": {},
     "output_type": "display_data"
    },
    {
     "name": "stdout",
     "output_type": "stream",
     "text": [
      "Фактический: г. Ярославль, ул. 1905 года, дом 15\n",
      "             ───────────────────────────────────\n"
     ]
    },
    {
     "data": {
      "text/plain": [
       "Match(\n",
       "    start=13,\n",
       "    stop=48,\n",
       "    fact=Addr(\n",
       "        parts=[AddrPart(\n",
       "             value='Ярославль',\n",
       "             type='город'\n",
       "         ),\n",
       "         AddrPart(\n",
       "             value='1905 года',\n",
       "             type='улица'\n",
       "         ),\n",
       "         AddrPart(\n",
       "             value='15',\n",
       "             type='дом'\n",
       "         )]\n",
       "    )\n",
       ")"
      ]
     },
     "metadata": {},
     "output_type": "display_data"
    },
    {
     "name": "stdout",
     "output_type": "stream",
     "text": [
      "Фактический адрес | 140180 Московская область, г.Жуковский, ул. \n",
      "                    ────────────────────────────────────────────\n",
      "Энергетическая, д.17\n",
      "────────────────────\n"
     ]
    },
    {
     "data": {
      "text/plain": [
       "Match(\n",
       "    start=20,\n",
       "    stop=84,\n",
       "    fact=Addr(\n",
       "        parts=[AddrPart(\n",
       "             value='140180',\n",
       "             type='индекс'\n",
       "         ),\n",
       "         AddrPart(\n",
       "             value='Московская',\n",
       "             type='область'\n",
       "         ),\n",
       "         AddrPart(\n",
       "             value='Жуковский',\n",
       "             type='город'\n",
       "         ),\n",
       "         AddrPart(\n",
       "             value='Энергетическая',\n",
       "             type='улица'\n",
       "         ),\n",
       "         AddrPart(\n",
       "             value='17',\n",
       "             type='дом'\n",
       "         )]\n",
       "    )\n",
       ")"
      ]
     },
     "metadata": {},
     "output_type": "display_data"
    },
    {
     "name": "stdout",
     "output_type": "stream",
     "text": [
      "Россия, г. Щелково, ул. Браварская, дом 100,\n",
      "─────────────────────────────────────────── \n"
     ]
    },
    {
     "data": {
      "text/plain": [
       "Match(\n",
       "    start=0,\n",
       "    stop=43,\n",
       "    fact=Addr(\n",
       "        parts=[AddrPart(\n",
       "             value='Россия',\n",
       "             type='страна'\n",
       "         ),\n",
       "         AddrPart(\n",
       "             value='Щелково',\n",
       "             type='город'\n",
       "         ),\n",
       "         AddrPart(\n",
       "             value='Браварская',\n",
       "             type='улица'\n",
       "         ),\n",
       "         AddrPart(\n",
       "             value='100',\n",
       "             type='дом'\n",
       "         )]\n",
       "    )\n",
       ")"
      ]
     },
     "metadata": {},
     "output_type": "display_data"
    },
    {
     "name": "stdout",
     "output_type": "stream",
     "text": [
      "\\- ул. Дыбенко, дом 27, кор. 1\n",
      "   ───────────────────────────\n"
     ]
    },
    {
     "data": {
      "text/plain": [
       "Match(\n",
       "    start=3,\n",
       "    stop=30,\n",
       "    fact=Addr(\n",
       "        parts=[AddrPart(\n",
       "             value='Дыбенко',\n",
       "             type='улица'\n",
       "         ),\n",
       "         AddrPart(\n",
       "             value='27',\n",
       "             type='дом'\n",
       "         ),\n",
       "         AddrPart(\n",
       "             value='1',\n",
       "             type='корпус'\n",
       "         )]\n",
       "    )\n",
       ")"
      ]
     },
     "metadata": {},
     "output_type": "display_data"
    },
    {
     "name": "stdout",
     "output_type": "stream",
     "text": [
      "Вологда, Пошехонское шоссе, дом 18, корпус D\n",
      "──────────────────────────────────          \n"
     ]
    },
    {
     "data": {
      "text/plain": [
       "Match(\n",
       "    start=0,\n",
       "    stop=34,\n",
       "    fact=Addr(\n",
       "        parts=[AddrPart(\n",
       "             value='Вологда',\n",
       "             type=None\n",
       "         ),\n",
       "         AddrPart(\n",
       "             value='Пошехонское',\n",
       "             type='шоссе'\n",
       "         ),\n",
       "         AddrPart(\n",
       "             value='18',\n",
       "             type='дом'\n",
       "         )]\n",
       "    )\n",
       ")"
      ]
     },
     "metadata": {},
     "output_type": "display_data"
    },
    {
     "name": "stdout",
     "output_type": "stream",
     "text": [
      "г.Ярославль ул. Свободы 34 \"\"В\n",
      "───────────────────────       \n"
     ]
    },
    {
     "data": {
      "text/plain": [
       "Match(\n",
       "    start=0,\n",
       "    stop=23,\n",
       "    fact=Addr(\n",
       "        parts=[AddrPart(\n",
       "             value='Ярославль',\n",
       "             type='город'\n",
       "         ),\n",
       "         AddrPart(\n",
       "             value='Свободы',\n",
       "             type='улица'\n",
       "         )]\n",
       "    )\n",
       ")"
      ]
     },
     "metadata": {},
     "output_type": "display_data"
    },
    {
     "name": "stdout",
     "output_type": "stream",
     "text": [
      "28 | ГАУ СО ЦСЗН Самойловского района | 8(84548)2-16-66/2-18-43 | \n",
      "                 ─────────────────────────────────────────────────\n",
      "Россия, Саратовская обл, Самойловский р-н, рп Самойловка, пл Красная, \n",
      "──────────────────────────────────────────────────────────────────────\n",
      "д.12\n",
      "────\n"
     ]
    },
    {
     "data": {
      "text/plain": [
       "Match(\n",
       "    start=17,\n",
       "    stop=140,\n",
       "    fact=Addr(\n",
       "        parts=[AddrPart(\n",
       "             value='Самойловского',\n",
       "             type='район'\n",
       "         ),\n",
       "         AddrPart(\n",
       "             value='Россия',\n",
       "             type='страна'\n",
       "         ),\n",
       "         AddrPart(\n",
       "             value='Саратовская',\n",
       "             type='область'\n",
       "         ),\n",
       "         AddrPart(\n",
       "             value='Самойловский',\n",
       "             type='район'\n",
       "         ),\n",
       "         AddrPart(\n",
       "             value='Красная',\n",
       "             type='площадь'\n",
       "         ),\n",
       "         AddrPart(\n",
       "             value='12',\n",
       "             type='дом'\n",
       "         )]\n",
       "    )\n",
       ")"
      ]
     },
     "metadata": {},
     "output_type": "display_data"
    },
    {
     "name": "stdout",
     "output_type": "stream",
     "text": [
      "ул. Энергетиков, д.20\n",
      "─────────────────────\n"
     ]
    },
    {
     "data": {
      "text/plain": [
       "Match(\n",
       "    start=0,\n",
       "    stop=21,\n",
       "    fact=Addr(\n",
       "        parts=[AddrPart(\n",
       "             value='Энергетиков',\n",
       "             type='улица'\n",
       "         ),\n",
       "         AddrPart(\n",
       "             value='20',\n",
       "             type='дом'\n",
       "         )]\n",
       "    )\n",
       ")"
      ]
     },
     "metadata": {},
     "output_type": "display_data"
    },
    {
     "name": "stdout",
     "output_type": "stream",
     "text": [
      "КАЗАНЬ  |  420054, ул. Тихорецкая, д. 19\n",
      "────────────────────────────────────────\n"
     ]
    },
    {
     "data": {
      "text/plain": [
       "Match(\n",
       "    start=0,\n",
       "    stop=40,\n",
       "    fact=Addr(\n",
       "        parts=[AddrPart(\n",
       "             value='КАЗАНЬ',\n",
       "             type=None\n",
       "         ),\n",
       "         AddrPart(\n",
       "             value='420054',\n",
       "             type='индекс'\n",
       "         ),\n",
       "         AddrPart(\n",
       "             value='Тихорецкая',\n",
       "             type='улица'\n",
       "         ),\n",
       "         AddrPart(\n",
       "             value='19',\n",
       "             type='дом'\n",
       "         )]\n",
       "    )\n",
       ")"
      ]
     },
     "metadata": {},
     "output_type": "display_data"
    },
    {
     "name": "stdout",
     "output_type": "stream",
     "text": [
      "127006, Россия, г. Москва, Воротниковский переулок дом 10 строение 3\n",
      "────────────────────────────────────────────────────────────────────\n"
     ]
    },
    {
     "data": {
      "text/plain": [
       "Match(\n",
       "    start=0,\n",
       "    stop=68,\n",
       "    fact=Addr(\n",
       "        parts=[AddrPart(\n",
       "             value='127006',\n",
       "             type='индекс'\n",
       "         ),\n",
       "         AddrPart(\n",
       "             value='Россия',\n",
       "             type='страна'\n",
       "         ),\n",
       "         AddrPart(\n",
       "             value='Москва',\n",
       "             type='город'\n",
       "         ),\n",
       "         AddrPart(\n",
       "             value='10',\n",
       "             type='дом'\n",
       "         ),\n",
       "         AddrPart(\n",
       "             value=None,\n",
       "             type='строение'\n",
       "         )]\n",
       "    )\n",
       ")"
      ]
     },
     "metadata": {},
     "output_type": "display_data"
    },
    {
     "name": "stdout",
     "output_type": "stream",
     "text": [
      "Москва, ул.Красная Сосна, д.24 стр.2\n",
      "────────────────────────────────────\n"
     ]
    },
    {
     "data": {
      "text/plain": [
       "Match(\n",
       "    start=0,\n",
       "    stop=36,\n",
       "    fact=Addr(\n",
       "        parts=[AddrPart(\n",
       "             value='Москва',\n",
       "             type=None\n",
       "         ),\n",
       "         AddrPart(\n",
       "             value='Красная Сосна',\n",
       "             type='улица'\n",
       "         ),\n",
       "         AddrPart(\n",
       "             value='24',\n",
       "             type='дом'\n",
       "         ),\n",
       "         AddrPart(\n",
       "             value=None,\n",
       "             type='строение'\n",
       "         )]\n",
       "    )\n",
       ")"
      ]
     },
     "metadata": {},
     "output_type": "display_data"
    },
    {
     "name": "stdout",
     "output_type": "stream",
     "text": [
      "Хабаровск, ул. Пушкина, 18, оф. 2\n",
      "─────────────────────────────────\n"
     ]
    },
    {
     "data": {
      "text/plain": [
       "Match(\n",
       "    start=0,\n",
       "    stop=33,\n",
       "    fact=Addr(\n",
       "        parts=[AddrPart(\n",
       "             value='Хабаровск',\n",
       "             type=None\n",
       "         ),\n",
       "         AddrPart(\n",
       "             value='Пушкина',\n",
       "             type='улица'\n",
       "         ),\n",
       "         AddrPart(\n",
       "             value='2',\n",
       "             type='офис'\n",
       "         )]\n",
       "    )\n",
       ")"
      ]
     },
     "metadata": {},
     "output_type": "display_data"
    },
    {
     "name": "stdout",
     "output_type": "stream",
     "text": [
      "г. Мурманск, ул. Полярные зори, 51/33 (кинотеатр «Мурманск») | Пн-Вс \n",
      "──────────────────────────────────────────────────────────           \n",
      "11:00-00:00\n"
     ]
    },
    {
     "data": {
      "text/plain": [
       "Match(\n",
       "    start=0,\n",
       "    stop=58,\n",
       "    fact=Addr(\n",
       "        parts=[AddrPart(\n",
       "             value='Мурманск',\n",
       "             type='город'\n",
       "         ),\n",
       "         AddrPart(\n",
       "             value='Полярные зори',\n",
       "             type='улица'\n",
       "         ),\n",
       "         AddrPart(\n",
       "             value='Мурманск',\n",
       "             type=None\n",
       "         )]\n",
       "    )\n",
       ")"
      ]
     },
     "metadata": {},
     "output_type": "display_data"
    },
    {
     "name": "stdout",
     "output_type": "stream",
     "text": [
      "ул. Родионова,  д. 193, корпус 3, офис 4\n",
      "────────────────────────────────────────\n"
     ]
    },
    {
     "data": {
      "text/plain": [
       "Match(\n",
       "    start=0,\n",
       "    stop=40,\n",
       "    fact=Addr(\n",
       "        parts=[AddrPart(\n",
       "             value='Родионова',\n",
       "             type='улица'\n",
       "         ),\n",
       "         AddrPart(\n",
       "             value='193',\n",
       "             type='дом'\n",
       "         ),\n",
       "         AddrPart(\n",
       "             value='3',\n",
       "             type='корпус'\n",
       "         ),\n",
       "         AddrPart(\n",
       "             value='4',\n",
       "             type='офис'\n",
       "         )]\n",
       "    )\n",
       ")"
      ]
     },
     "metadata": {},
     "output_type": "display_data"
    },
    {
     "name": "stdout",
     "output_type": "stream",
     "text": [
      "301321, Тульская область, г. Венев, ул. Станционная, д. 21-а, стр.1\n",
      "───────────────────────────────────────────────────────────────────\n"
     ]
    },
    {
     "data": {
      "text/plain": [
       "Match(\n",
       "    start=0,\n",
       "    stop=67,\n",
       "    fact=Addr(\n",
       "        parts=[AddrPart(\n",
       "             value='301321',\n",
       "             type='индекс'\n",
       "         ),\n",
       "         AddrPart(\n",
       "             value='Тульская',\n",
       "             type='область'\n",
       "         ),\n",
       "         AddrPart(\n",
       "             value='Станционная',\n",
       "             type='улица'\n",
       "         ),\n",
       "         AddrPart(\n",
       "             value='21-а',\n",
       "             type='дом'\n",
       "         ),\n",
       "         AddrPart(\n",
       "             value=None,\n",
       "             type='строение'\n",
       "         )]\n",
       "    )\n",
       ")"
      ]
     },
     "metadata": {},
     "output_type": "display_data"
    },
    {
     "name": "stdout",
     "output_type": "stream",
     "text": [
      "1301| Екатеринбург г., ул. Амундсена, 11| 26 м| Сталь 3 м\n",
      "      ──────────────────────────────                     \n"
     ]
    },
    {
     "data": {
      "text/plain": [
       "Match(\n",
       "    start=6,\n",
       "    stop=36,\n",
       "    fact=Addr(\n",
       "        parts=[AddrPart(\n",
       "             value='Екатеринбург',\n",
       "             type=None\n",
       "         ),\n",
       "         AddrPart(\n",
       "             value='Амундсена',\n",
       "             type='улица'\n",
       "         )]\n",
       "    )\n",
       ")"
      ]
     },
     "metadata": {},
     "output_type": "display_data"
    },
    {
     "name": "stdout",
     "output_type": "stream",
     "text": [
      "192019, г. Санкт-Петербург, Профессора Качалова ул., д. 3\n",
      "─────────────────────────────────────────────────────────\n"
     ]
    },
    {
     "data": {
      "text/plain": [
       "Match(\n",
       "    start=0,\n",
       "    stop=57,\n",
       "    fact=Addr(\n",
       "        parts=[AddrPart(\n",
       "             value='192019',\n",
       "             type='индекс'\n",
       "         ),\n",
       "         AddrPart(\n",
       "             value='Санкт-Петербург',\n",
       "             type='город'\n",
       "         ),\n",
       "         AddrPart(\n",
       "             value='Профессора Качалова',\n",
       "             type='улица'\n",
       "         ),\n",
       "         AddrPart(\n",
       "             value='3',\n",
       "             type='дом'\n",
       "         )]\n",
       "    )\n",
       ")"
      ]
     },
     "metadata": {},
     "output_type": "display_data"
    },
    {
     "name": "stdout",
     "output_type": "stream",
     "text": [
      "344111, г. Ростов-на-Дону, проспект 40 - летия Победы,75\n",
      "─────────────────────────────────────────────────────   \n"
     ]
    },
    {
     "data": {
      "text/plain": [
       "Match(\n",
       "    start=0,\n",
       "    stop=53,\n",
       "    fact=Addr(\n",
       "        parts=[AddrPart(\n",
       "             value='344111',\n",
       "             type='индекс'\n",
       "         ),\n",
       "         AddrPart(\n",
       "             value='Ростов-на-Дону',\n",
       "             type='город'\n",
       "         ),\n",
       "         AddrPart(\n",
       "             value='40 - летия Победы',\n",
       "             type='проспект'\n",
       "         )]\n",
       "    )\n",
       ")"
      ]
     },
     "metadata": {},
     "output_type": "display_data"
    },
    {
     "name": "stdout",
     "output_type": "stream",
     "text": [
      "ул.Чистопольская 10/8 г.Казань\n",
      "──────────────────────────────\n"
     ]
    },
    {
     "data": {
      "text/plain": [
       "Match(\n",
       "    start=0,\n",
       "    stop=30,\n",
       "    fact=Addr(\n",
       "        parts=[AddrPart(\n",
       "             value='Чистопольская',\n",
       "             type='улица'\n",
       "         ),\n",
       "         AddrPart(\n",
       "             value='Казань',\n",
       "             type='город'\n",
       "         )]\n",
       "    )\n",
       ")"
      ]
     },
     "metadata": {},
     "output_type": "display_data"
    },
    {
     "name": "stdout",
     "output_type": "stream",
     "text": [
      "129085, г. Москва, ул. Годовикова, дом 9, стр. 3\n",
      "────────────────────────────────────────────────\n"
     ]
    },
    {
     "data": {
      "text/plain": [
       "Match(\n",
       "    start=0,\n",
       "    stop=48,\n",
       "    fact=Addr(\n",
       "        parts=[AddrPart(\n",
       "             value='129085',\n",
       "             type='индекс'\n",
       "         ),\n",
       "         AddrPart(\n",
       "             value='Москва',\n",
       "             type='город'\n",
       "         ),\n",
       "         AddrPart(\n",
       "             value='Годовикова',\n",
       "             type='улица'\n",
       "         ),\n",
       "         AddrPart(\n",
       "             value='9',\n",
       "             type='дом'\n",
       "         ),\n",
       "         AddrPart(\n",
       "             value=None,\n",
       "             type='строение'\n",
       "         )]\n",
       "    )\n",
       ")"
      ]
     },
     "metadata": {},
     "output_type": "display_data"
    },
    {
     "name": "stdout",
     "output_type": "stream",
     "text": [
      "Б.Овчинниковский пер., д.17/1, стр. 3\n",
      "─────────────────────────────────────\n"
     ]
    },
    {
     "data": {
      "text/plain": [
       "Match(\n",
       "    start=0,\n",
       "    stop=37,\n",
       "    fact=Addr(\n",
       "        parts=[AddrPart(\n",
       "             value='Б.Овчинниковский',\n",
       "             type='переулок'\n",
       "         ),\n",
       "         AddrPart(\n",
       "             value='17/1',\n",
       "             type='дом'\n",
       "         ),\n",
       "         AddrPart(\n",
       "             value=None,\n",
       "             type='строение'\n",
       "         )]\n",
       "    )\n",
       ")"
      ]
     },
     "metadata": {},
     "output_type": "display_data"
    },
    {
     "name": "stdout",
     "output_type": "stream",
     "text": [
      "Ставрополь, ул.Серова, д.21/1\n",
      "─────────────────────────────\n"
     ]
    },
    {
     "data": {
      "text/plain": [
       "Match(\n",
       "    start=0,\n",
       "    stop=29,\n",
       "    fact=Addr(\n",
       "        parts=[AddrPart(\n",
       "             value='Ставрополь',\n",
       "             type=None\n",
       "         ),\n",
       "         AddrPart(\n",
       "             value='Серова',\n",
       "             type='улица'\n",
       "         ),\n",
       "         AddrPart(\n",
       "             value='21/1',\n",
       "             type='дом'\n",
       "         )]\n",
       "    )\n",
       ")"
      ]
     },
     "metadata": {},
     "output_type": "display_data"
    },
    {
     "name": "stdout",
     "output_type": "stream",
     "text": [
      "Адрес: | Россия, Московская область, г.Балашиха-3, ул.Белякова, д.2\n",
      "         ──────────────────────────────────────────────────────────\n"
     ]
    },
    {
     "data": {
      "text/plain": [
       "Match(\n",
       "    start=9,\n",
       "    stop=67,\n",
       "    fact=Addr(\n",
       "        parts=[AddrPart(\n",
       "             value='Россия',\n",
       "             type='страна'\n",
       "         ),\n",
       "         AddrPart(\n",
       "             value='Московская',\n",
       "             type='область'\n",
       "         ),\n",
       "         AddrPart(\n",
       "             value='Балашиха-3',\n",
       "             type='город'\n",
       "         ),\n",
       "         AddrPart(\n",
       "             value='Белякова',\n",
       "             type='улица'\n",
       "         ),\n",
       "         AddrPart(\n",
       "             value='2',\n",
       "             type='дом'\n",
       "         )]\n",
       "    )\n",
       ")"
      ]
     },
     "metadata": {},
     "output_type": "display_data"
    },
    {
     "name": "stdout",
     "output_type": "stream",
     "text": [
      "Проектная компания ООО \"Артифекс\" +7 (8352) 48 80 72 // \n",
      "proekt@artifex21.ru г. Чебоксары, Гаражный проезд, дом 4\n",
      "                    ────────────────────────────────────\n"
     ]
    },
    {
     "data": {
      "text/plain": [
       "Match(\n",
       "    start=76,\n",
       "    stop=112,\n",
       "    fact=Addr(\n",
       "        parts=[AddrPart(\n",
       "             value='Чебоксары',\n",
       "             type='город'\n",
       "         ),\n",
       "         AddrPart(\n",
       "             value='Гаражный',\n",
       "             type='проезд'\n",
       "         ),\n",
       "         AddrPart(\n",
       "             value='4',\n",
       "             type='дом'\n",
       "         )]\n",
       "    )\n",
       ")"
      ]
     },
     "metadata": {},
     "output_type": "display_data"
    },
    {
     "name": "stdout",
     "output_type": "stream",
     "text": [
      "г. Екатеринбург, ул. Нагорная, 11\n",
      "─────────────────────────────    \n"
     ]
    },
    {
     "data": {
      "text/plain": [
       "Match(\n",
       "    start=0,\n",
       "    stop=29,\n",
       "    fact=Addr(\n",
       "        parts=[AddrPart(\n",
       "             value='Екатеринбург',\n",
       "             type='город'\n",
       "         ),\n",
       "         AddrPart(\n",
       "             value='Нагорная',\n",
       "             type='улица'\n",
       "         )]\n",
       "    )\n",
       ")"
      ]
     },
     "metadata": {},
     "output_type": "display_data"
    },
    {
     "name": "stdout",
     "output_type": "stream",
     "text": [
      "Адрес |  | 127410, г. Москва, Алтуфьевское шоссе, 41 А, стр. 1, офис \n",
      "           ──────────────────────────────────────────────────────────\n",
      "42\n",
      "──\n"
     ]
    },
    {
     "data": {
      "text/plain": [
       "Match(\n",
       "    start=11,\n",
       "    stop=71,\n",
       "    fact=Addr(\n",
       "        parts=[AddrPart(\n",
       "             value='127410',\n",
       "             type='индекс'\n",
       "         ),\n",
       "         AddrPart(\n",
       "             value='Москва',\n",
       "             type='город'\n",
       "         ),\n",
       "         AddrPart(\n",
       "             value='Алтуфьевское',\n",
       "             type='шоссе'\n",
       "         ),\n",
       "         AddrPart(\n",
       "             value=None,\n",
       "             type='строение'\n",
       "         ),\n",
       "         AddrPart(\n",
       "             value='42',\n",
       "             type='офис'\n",
       "         )]\n",
       "    )\n",
       ")"
      ]
     },
     "metadata": {},
     "output_type": "display_data"
    },
    {
     "name": "stdout",
     "output_type": "stream",
     "text": [
      "443001 Самара, ул. Пушкина (бывшая Братьев Коростелевых) дом 268.\n",
      "──────────────────────────────────────────────────────────────── \n"
     ]
    },
    {
     "data": {
      "text/plain": [
       "Match(\n",
       "    start=0,\n",
       "    stop=64,\n",
       "    fact=Addr(\n",
       "        parts=[AddrPart(\n",
       "             value='443001',\n",
       "             type='индекс'\n",
       "         ),\n",
       "         AddrPart(\n",
       "             value='Самара',\n",
       "             type=None\n",
       "         ),\n",
       "         AddrPart(\n",
       "             value='Пушкина',\n",
       "             type='улица'\n",
       "         ),\n",
       "         AddrPart(\n",
       "             value='268',\n",
       "             type='дом'\n",
       "         )]\n",
       "    )\n",
       ")"
      ]
     },
     "metadata": {},
     "output_type": "display_data"
    },
    {
     "name": "stdout",
     "output_type": "stream",
     "text": [
      "344022, г.Ростов-на-Дону, ул. Нижнебульварная, 29\n",
      "─────────────────────────────────────────────    \n"
     ]
    },
    {
     "data": {
      "text/plain": [
       "Match(\n",
       "    start=0,\n",
       "    stop=45,\n",
       "    fact=Addr(\n",
       "        parts=[AddrPart(\n",
       "             value='344022',\n",
       "             type='индекс'\n",
       "         ),\n",
       "         AddrPart(\n",
       "             value='Ростов-на-Дону',\n",
       "             type='город'\n",
       "         ),\n",
       "         AddrPart(\n",
       "             value='Нижнебульварная',\n",
       "             type='улица'\n",
       "         )]\n",
       "    )\n",
       ")"
      ]
     },
     "metadata": {},
     "output_type": "display_data"
    },
    {
     "name": "stdout",
     "output_type": "stream",
     "text": [
      "МО, г. Мытищи, ул. 2-я Институтская, сооружение 24Б. Просим \n",
      "    ───────────────────────────────                         \n",
      "обязательно связаться с отделом продаж по телефону 8-495-505-59-39\n"
     ]
    },
    {
     "data": {
      "text/plain": [
       "Match(\n",
       "    start=4,\n",
       "    stop=35,\n",
       "    fact=Addr(\n",
       "        parts=[AddrPart(\n",
       "             value='Мытищи',\n",
       "             type='город'\n",
       "         ),\n",
       "         AddrPart(\n",
       "             value='2-я Институтская',\n",
       "             type='улица'\n",
       "         )]\n",
       "    )\n",
       ")"
      ]
     },
     "metadata": {},
     "output_type": "display_data"
    },
    {
     "name": "stdout",
     "output_type": "stream",
     "text": [
      "Адрес: 156000 г.Кострома, ул.Комсомольская, д.31А,\n",
      "       ────────────────────────────────────────── \n"
     ]
    },
    {
     "data": {
      "text/plain": [
       "Match(\n",
       "    start=7,\n",
       "    stop=49,\n",
       "    fact=Addr(\n",
       "        parts=[AddrPart(\n",
       "             value='156000',\n",
       "             type='индекс'\n",
       "         ),\n",
       "         AddrPart(\n",
       "             value='Кострома',\n",
       "             type='город'\n",
       "         ),\n",
       "         AddrPart(\n",
       "             value='Комсомольская',\n",
       "             type='улица'\n",
       "         ),\n",
       "         AddrPart(\n",
       "             value='31А',\n",
       "             type='дом'\n",
       "         )]\n",
       "    )\n",
       ")"
      ]
     },
     "metadata": {},
     "output_type": "display_data"
    },
    {
     "name": "stdout",
     "output_type": "stream",
     "text": [
      "Россия, Москва, ул. Осенняя, дом 23, оф. 1\n",
      "──────────────────────────────────────────\n"
     ]
    },
    {
     "data": {
      "text/plain": [
       "Match(\n",
       "    start=0,\n",
       "    stop=42,\n",
       "    fact=Addr(\n",
       "        parts=[AddrPart(\n",
       "             value='Россия',\n",
       "             type='страна'\n",
       "         ),\n",
       "         AddrPart(\n",
       "             value='Москва',\n",
       "             type=None\n",
       "         ),\n",
       "         AddrPart(\n",
       "             value='Осенняя',\n",
       "             type='улица'\n",
       "         ),\n",
       "         AddrPart(\n",
       "             value='23',\n",
       "             type='дом'\n",
       "         ),\n",
       "         AddrPart(\n",
       "             value='1',\n",
       "             type='офис'\n",
       "         )]\n",
       "    )\n",
       ")"
      ]
     },
     "metadata": {},
     "output_type": "display_data"
    },
    {
     "name": "stdout",
     "output_type": "stream",
     "text": [
      "142100, Московская область, г. Подольск, ул. Веллинга, д. 3\n",
      "───────────────────────────────────────────────────────────\n"
     ]
    },
    {
     "data": {
      "text/plain": [
       "Match(\n",
       "    start=0,\n",
       "    stop=59,\n",
       "    fact=Addr(\n",
       "        parts=[AddrPart(\n",
       "             value='142100',\n",
       "             type='индекс'\n",
       "         ),\n",
       "         AddrPart(\n",
       "             value='Московская',\n",
       "             type='область'\n",
       "         ),\n",
       "         AddrPart(\n",
       "             value='Подольск',\n",
       "             type='город'\n",
       "         ),\n",
       "         AddrPart(\n",
       "             value='Веллинга',\n",
       "             type='улица'\n",
       "         ),\n",
       "         AddrPart(\n",
       "             value='3',\n",
       "             type='дом'\n",
       "         )]\n",
       "    )\n",
       ")"
      ]
     },
     "metadata": {},
     "output_type": "display_data"
    },
    {
     "name": "stdout",
     "output_type": "stream",
     "text": [
      "400001 г. Волгоград, ул. Козловская д. 3 ком. 16\n",
      "────────────────────────────────────────        \n"
     ]
    },
    {
     "data": {
      "text/plain": [
       "Match(\n",
       "    start=0,\n",
       "    stop=40,\n",
       "    fact=Addr(\n",
       "        parts=[AddrPart(\n",
       "             value='400001',\n",
       "             type='индекс'\n",
       "         ),\n",
       "         AddrPart(\n",
       "             value='Волгоград',\n",
       "             type='город'\n",
       "         ),\n",
       "         AddrPart(\n",
       "             value='Козловская',\n",
       "             type='улица'\n",
       "         ),\n",
       "         AddrPart(\n",
       "             value='3',\n",
       "             type='дом'\n",
       "         )]\n",
       "    )\n",
       ")"
      ]
     },
     "metadata": {},
     "output_type": "display_data"
    },
    {
     "name": "stdout",
     "output_type": "stream",
     "text": [
      "г. Брянск, ул. Фокина, 27/43\n",
      "─────────────────────       \n"
     ]
    },
    {
     "data": {
      "text/plain": [
       "Match(\n",
       "    start=0,\n",
       "    stop=21,\n",
       "    fact=Addr(\n",
       "        parts=[AddrPart(\n",
       "             value='Брянск',\n",
       "             type='город'\n",
       "         ),\n",
       "         AddrPart(\n",
       "             value='Фокина',\n",
       "             type='улица'\n",
       "         )]\n",
       "    )\n",
       ")"
      ]
     },
     "metadata": {},
     "output_type": "display_data"
    },
    {
     "name": "stdout",
     "output_type": "stream",
     "text": [
      "наб. Мартынова, д. 38, лит. А\n",
      "─────────────────────        \n"
     ]
    },
    {
     "data": {
      "text/plain": [
       "Match(\n",
       "    start=0,\n",
       "    stop=21,\n",
       "    fact=Addr(\n",
       "        parts=[AddrPart(\n",
       "             value='Мартынова',\n",
       "             type='набережная'\n",
       "         ),\n",
       "         AddrPart(\n",
       "             value='38',\n",
       "             type='дом'\n",
       "         )]\n",
       "    )\n",
       ")"
      ]
     },
     "metadata": {},
     "output_type": "display_data"
    },
    {
     "name": "stdout",
     "output_type": "stream",
     "text": [
      "Адрес: Санкт-Петербург, ул. Кубинская, д. 78. 2 этаж, офис 2-14\n",
      "       ────────────────────────────────────────────────────────\n"
     ]
    },
    {
     "data": {
      "text/plain": [
       "Match(\n",
       "    start=7,\n",
       "    stop=63,\n",
       "    fact=Addr(\n",
       "        parts=[AddrPart(\n",
       "             value='Санкт-Петербург',\n",
       "             type=None\n",
       "         ),\n",
       "         AddrPart(\n",
       "             value='Кубинская',\n",
       "             type='улица'\n",
       "         ),\n",
       "         AddrPart(\n",
       "             value='78',\n",
       "             type='дом'\n",
       "         ),\n",
       "         AddrPart(\n",
       "             value='2-14',\n",
       "             type='офис'\n",
       "         )]\n",
       "    )\n",
       ")"
      ]
     },
     "metadata": {},
     "output_type": "display_data"
    },
    {
     "name": "stdout",
     "output_type": "stream",
     "text": [
      "улица машиностроительная, дом 13 офис 6\n",
      "                          ─────────────\n"
     ]
    },
    {
     "data": {
      "text/plain": [
       "Match(\n",
       "    start=26,\n",
       "    stop=39,\n",
       "    fact=Addr(\n",
       "        parts=[AddrPart(\n",
       "             value='13',\n",
       "             type='дом'\n",
       "         ),\n",
       "         AddrPart(\n",
       "             value='6',\n",
       "             type='офис'\n",
       "         )]\n",
       "    )\n",
       ")"
      ]
     },
     "metadata": {},
     "output_type": "display_data"
    },
    {
     "name": "stdout",
     "output_type": "stream",
     "text": [
      "Россия, Республика Башкортостан, г.Уфа, ул. Менделеева, 136/5а\n",
      "──────────────────────────────────────────────────────        \n"
     ]
    },
    {
     "data": {
      "text/plain": [
       "Match(\n",
       "    start=0,\n",
       "    stop=54,\n",
       "    fact=Addr(\n",
       "        parts=[AddrPart(\n",
       "             value='Россия',\n",
       "             type='страна'\n",
       "         ),\n",
       "         AddrPart(\n",
       "             value='Башкортостан',\n",
       "             type='республика'\n",
       "         ),\n",
       "         AddrPart(\n",
       "             value='Уфа',\n",
       "             type='город'\n",
       "         ),\n",
       "         AddrPart(\n",
       "             value='Менделеева',\n",
       "             type='улица'\n",
       "         )]\n",
       "    )\n",
       ")"
      ]
     },
     "metadata": {},
     "output_type": "display_data"
    },
    {
     "name": "stdout",
     "output_type": "stream",
     "text": [
      "355042, г. Ставрополь, ул. Доваторцев, 66г\n",
      "─────────────────────────────────────     \n"
     ]
    },
    {
     "data": {
      "text/plain": [
       "Match(\n",
       "    start=0,\n",
       "    stop=37,\n",
       "    fact=Addr(\n",
       "        parts=[AddrPart(\n",
       "             value='355042',\n",
       "             type='индекс'\n",
       "         ),\n",
       "         AddrPart(\n",
       "             value='Ставрополь',\n",
       "             type='город'\n",
       "         ),\n",
       "         AddrPart(\n",
       "             value='Доваторцев',\n",
       "             type='улица'\n",
       "         )]\n",
       "    )\n",
       ")"
      ]
     },
     "metadata": {},
     "output_type": "display_data"
    },
    {
     "name": "stdout",
     "output_type": "stream",
     "text": [
      "пр. Димитрова, д. 4а\n",
      "────────────────────\n"
     ]
    },
    {
     "data": {
      "text/plain": [
       "Match(\n",
       "    start=0,\n",
       "    stop=20,\n",
       "    fact=Addr(\n",
       "        parts=[AddrPart(\n",
       "             value='Димитрова',\n",
       "             type='проспект'\n",
       "         ),\n",
       "         AddrPart(\n",
       "             value='4а',\n",
       "             type='дом'\n",
       "         )]\n",
       "    )\n",
       ")"
      ]
     },
     "metadata": {},
     "output_type": "display_data"
    },
    {
     "name": "stdout",
     "output_type": "stream",
     "text": [
      "141982 г.Дубна Московской обл., ул.Университетская, 19\n",
      "──────────────────────────────────────────────────    \n"
     ]
    },
    {
     "data": {
      "text/plain": [
       "Match(\n",
       "    start=0,\n",
       "    stop=50,\n",
       "    fact=Addr(\n",
       "        parts=[AddrPart(\n",
       "             value='141982',\n",
       "             type='индекс'\n",
       "         ),\n",
       "         AddrPart(\n",
       "             value='Дубна',\n",
       "             type='город'\n",
       "         ),\n",
       "         AddrPart(\n",
       "             value='Московской',\n",
       "             type='область'\n",
       "         ),\n",
       "         AddrPart(\n",
       "             value='Университетская',\n",
       "             type='улица'\n",
       "         )]\n",
       "    )\n",
       ")"
      ]
     },
     "metadata": {},
     "output_type": "display_data"
    },
    {
     "name": "stdout",
     "output_type": "stream",
     "text": [
      "г. Туапсе, ул. Свободы, 3 | 8 (86167) 2-18-51, 2-10-54 | ok.adm.tr\n",
      "──────────────────────                                            \n"
     ]
    },
    {
     "data": {
      "text/plain": [
       "Match(\n",
       "    start=0,\n",
       "    stop=22,\n",
       "    fact=Addr(\n",
       "        parts=[AddrPart(\n",
       "             value='Туапсе',\n",
       "             type='город'\n",
       "         ),\n",
       "         AddrPart(\n",
       "             value='Свободы',\n",
       "             type='улица'\n",
       "         )]\n",
       "    )\n",
       ")"
      ]
     },
     "metadata": {},
     "output_type": "display_data"
    },
    {
     "name": "stdout",
     "output_type": "stream",
     "text": [
      "188300, Ленинградская обл., г.Гатчина, ул.Чехова, д.25 А, оф.331\"\n",
      "──────────────────────────────────────────────────────────────── \n"
     ]
    },
    {
     "data": {
      "text/plain": [
       "Match(\n",
       "    start=0,\n",
       "    stop=64,\n",
       "    fact=Addr(\n",
       "        parts=[AddrPart(\n",
       "             value='188300',\n",
       "             type='индекс'\n",
       "         ),\n",
       "         AddrPart(\n",
       "             value='Ленинградская',\n",
       "             type='область'\n",
       "         ),\n",
       "         AddrPart(\n",
       "             value='Гатчина',\n",
       "             type='город'\n",
       "         ),\n",
       "         AddrPart(\n",
       "             value='Чехова',\n",
       "             type='улица'\n",
       "         ),\n",
       "         AddrPart(\n",
       "             value='25 А',\n",
       "             type='дом'\n",
       "         ),\n",
       "         AddrPart(\n",
       "             value='331',\n",
       "             type='офис'\n",
       "         )]\n",
       "    )\n",
       ")"
      ]
     },
     "metadata": {},
     "output_type": "display_data"
    },
    {
     "name": "stdout",
     "output_type": "stream",
     "text": [
      "Российская Федерация, Московская область, 143400, Красногорский район,\n",
      "                      ────────────────────────────────────────────────\n",
      " поселок Путилково, дом 11\n",
      "──────────────────────────\n"
     ]
    },
    {
     "data": {
      "text/plain": [
       "Match(\n",
       "    start=22,\n",
       "    stop=96,\n",
       "    fact=Addr(\n",
       "        parts=[AddrPart(\n",
       "             value='Московская',\n",
       "             type='область'\n",
       "         ),\n",
       "         AddrPart(\n",
       "             value='143400',\n",
       "             type='индекс'\n",
       "         ),\n",
       "         AddrPart(\n",
       "             value='Красногорский',\n",
       "             type='район'\n",
       "         ),\n",
       "         AddrPart(\n",
       "             value='Путилково',\n",
       "             type='посёлок'\n",
       "         ),\n",
       "         AddrPart(\n",
       "             value='11',\n",
       "             type='дом'\n",
       "         )]\n",
       "    )\n",
       ")"
      ]
     },
     "metadata": {},
     "output_type": "display_data"
    },
    {
     "name": "stdout",
     "output_type": "stream",
     "text": [
      "Юридический адрес: 109341, г. Москва, ул. Братиславская, д. 6, оф 171\n",
      "                   ──────────────────────────────────────────────────\n"
     ]
    },
    {
     "data": {
      "text/plain": [
       "Match(\n",
       "    start=19,\n",
       "    stop=69,\n",
       "    fact=Addr(\n",
       "        parts=[AddrPart(\n",
       "             value='109341',\n",
       "             type='индекс'\n",
       "         ),\n",
       "         AddrPart(\n",
       "             value='Москва',\n",
       "             type='город'\n",
       "         ),\n",
       "         AddrPart(\n",
       "             value='Братиславская',\n",
       "             type='улица'\n",
       "         ),\n",
       "         AddrPart(\n",
       "             value='6',\n",
       "             type='дом'\n",
       "         ),\n",
       "         AddrPart(\n",
       "             value='171',\n",
       "             type='офис'\n",
       "         )]\n",
       "    )\n",
       ")"
      ]
     },
     "metadata": {},
     "output_type": "display_data"
    },
    {
     "name": "stdout",
     "output_type": "stream",
     "text": [
      "г. Уфа,  ул. Индустриальное шоссе 44/1\n",
      "─────────────────────────────────     \n"
     ]
    },
    {
     "data": {
      "text/plain": [
       "Match(\n",
       "    start=0,\n",
       "    stop=33,\n",
       "    fact=Addr(\n",
       "        parts=[AddrPart(\n",
       "             value='Уфа',\n",
       "             type='город'\n",
       "         ),\n",
       "         AddrPart(\n",
       "             value='Индустриальное шоссе',\n",
       "             type='улица'\n",
       "         )]\n",
       "    )\n",
       ")"
      ]
     },
     "metadata": {},
     "output_type": "display_data"
    },
    {
     "name": "stdout",
     "output_type": "stream",
     "text": [
      "4 офис - г. Балтийск, ул. Ленина 65 Б т.  +7 (4012) 70-99-10\n",
      "         ───────────────────────                            \n"
     ]
    },
    {
     "data": {
      "text/plain": [
       "Match(\n",
       "    start=9,\n",
       "    stop=32,\n",
       "    fact=Addr(\n",
       "        parts=[AddrPart(\n",
       "             value='Балтийск',\n",
       "             type='город'\n",
       "         ),\n",
       "         AddrPart(\n",
       "             value='Ленина',\n",
       "             type='улица'\n",
       "         )]\n",
       "    )\n",
       ")"
      ]
     },
     "metadata": {},
     "output_type": "display_data"
    }
   ],
   "source": [
    "from random import seed, sample\n",
    "\n",
    "from ipymarkup import show_span_ascii_markup as show_markup\n",
    "\n",
    "from natasha import MorphVocab, AddrExtractor\n",
    "\n",
    "morph = MorphVocab()\n",
    "extractor = AddrExtractor(morph)\n",
    "\n",
    "seed(1)\n",
    "for line in sample(lines, 200):\n",
    "    match = extractor.find(line)\n",
    "    if match:\n",
    "        show_markup(line, [match])\n",
    "        display(match)"
   ]
  },
  {
   "cell_type": "code",
   "execution_count": null,
   "metadata": {},
   "outputs": [],
   "source": []
  }
 ],
 "metadata": {
  "language_info": {
   "name": "python"
  }
 },
 "nbformat": 4,
 "nbformat_minor": 2
}
